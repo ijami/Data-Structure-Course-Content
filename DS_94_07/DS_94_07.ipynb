{
 "cells": [
  {
   "cell_type": "markdown",
   "metadata": {},
   "source": [
    "<div style=\"direction:rtl;line-height:300%;\"><font face=\"XB Zar\" size=5>\n",
    "<div style=\"direction:rtl;line-height:300%;\"><font face=\"XB Zar\" size=5>\n",
    "<div align=center>\n",
    "<font face=\"IranNastaliq\" size=30>\n",
    "<p></p>\n",
    "به نام خدا\n",
    "</font>\n",
    "<br>\n",
    "<font color=#FF7500>\n",
    "دانشگاه صنعتی شریف - دانشکده مهندسی کامپیوتر\n",
    "</font>\n",
    "<br>\n",
    "<font color=blue>\n",
    "داده‌ساختارها و الگوریتم‌ها\n",
    "</font>\n",
    "</div>\n",
    "علی شریفی زارچی\n",
    "<span style=\"float:left;\">\n",
    "ترم دوم سال تحصیلی ۱۳۹۴-۹۵\n",
    "</span>\n",
    "<hr/>\n",
    "<font color=red size=6>\n",
    "<p></p>\n",
    "\n",
    "<div align=center>\n",
    "فصل هفتم: ذخیره‌سازی و پیمایش درخت\n",
    "</div>\n",
    "</font>\n",
    "<div align=left>\n",
    "سروش عبادیان و امیر کفشدار گوهرشادی \n",
    "</div>\n",
    "<hr>\n",
    "</font></div>\n",
    "<p></p>\n",
    "درخت، گراف همبند بدون دور است و درخت ریشه‌دار درختی است که در آن یک رأس خاص به عنوان ریشه انتخاب شده است. موارد زیر را برای درخت‌های ریشه‌دار تعریف می‌کنیم:\n",
    "<ul>\n",
    "  <li>عمق یک رأس: فاصله‌ی رأس تا ریشه را عمق آن می‌نامیم.</li>\n",
    "  <li>ارتفاع درخت: ماکسیمم عمق در بین همه‌ی رأس‌ها را ارتفاع درخت می‌نامیم.</li>\n",
    "  <li>پدر و فرزند: وقتی دو رأس مجاور باشند، رأسی که به ریشه نزدیک‌تر است را پدر دیگری می‌نامیم و رأس دورتر را فرزند رأس نزدیک‌تر.</li>\n",
    "  <li>اجداد: اجداد یک رأس همه‌ی رئوسی هستند که روی مسیر آن رأس به ریشه قرار دارند. منظور از جد $i$ام یک رأس جدی است که فاصله‌اش تا آن رأس $i$ است.</li>\n",
    "  <li>نوادگان: نوادگان یک رأس همه‌ی رئوسی هستند که این رأس جدشان است. زیردرخت یک رأس مجموعه‌ی همه‌ی نوادگان آن رأس است.</li>\n",
    "</ul>\n",
    "<p></p>\n",
    "راه‌های گوناگونی برای ذخیره‌سازی یک درخت وجود دارد. ساده‌ترین راه برای ذخیره‌سازی یک درخت آن است که رأس‌های آن را شماره زده و شماره‌ی پدر هر رأس را در آن ذخیره کنیم. چون ریشه تنها رأس درخت است که پدر ندارد می‌توانیم قرارداد کنیم که پدر ریشه را $-1$ یا خودش در نظر بگیریم. ما در این متن از قرارداد دوم استفاده می‌کنیم.\n",
    "<p></p>\n",
    "ذخیره‌کردن پدرهای رئوس گرچه برای تعیین یکتای یک درخت کافی است، اما پیمایش آن را بسیار دشوار و زمان‌بر می‌کند. راهکار بهتر برای ذخیره‌سازی این است که برای هر رأس شماره‌ی پدرش و یک لیست از شماره‌های فرزندانش را ذخیره کنیم.\n",
    "<p></p>\n",
    "برای مثال یک ذخیره‌سازی از درخت زیر را در ادامه می‌آوریم. \n",
    "\n",
    "<img src=\"images/tree1.jpg\">\n",
    "\n",
    "رأس ۳ ریشه‌ی درخت فرض شده است.\n",
    "\n",
    "\n",
    "</font></div>"
   ]
  },
  {
   "cell_type": "code",
   "execution_count": 55,
   "metadata": {
    "collapsed": false
   },
   "outputs": [
    {
     "name": "stdout",
     "output_type": "stream",
     "text": [
      "children of 1 are: []\n",
      "children of 2 are: [8]\n",
      "children of 3 are: [4, 9]\n",
      "children of 4 are: [5, 6, 10]\n",
      "children of 5 are: []\n",
      "children of 6 are: [7]\n",
      "children of 7 are: []\n",
      "children of 8 are: [1]\n",
      "children of 9 are: [2]\n",
      "children of 10 are: []\n"
     ]
    }
   ],
   "source": [
    "vertices = [1, 2, 3, 4, 5, 6, 7, 8, 9, 10]\n",
    "parent = {\n",
    "    3: 3,\n",
    "    9: 3,\n",
    "    4: 3,\n",
    "    2: 9,\n",
    "    10: 4,\n",
    "    6: 4,\n",
    "    5: 4,\n",
    "    7: 6,\n",
    "    8: 2,\n",
    "    1: 8\n",
    "}\n",
    "\n",
    "# Calculations to create children lists of vertices\n",
    "children = dict()\n",
    "for vertex in vertices:\n",
    "    children[vertex] = list()\n",
    "for vertex in vertices:\n",
    "    if vertex != parent[vertex]:\n",
    "        children[parent[vertex]].append(vertex)\n",
    "\n",
    "for vertex in vertices:\n",
    "    print \"children of %d are: %s\" % (vertex, str(children[vertex]))"
   ]
  },
  {
   "cell_type": "markdown",
   "metadata": {},
   "source": [
    "<div style=\"direction:rtl;line-height:300%;\"><font face=\"XB Zar\" size=5>\n",
    "راه دیگر ذخیره‌سازی درخت استفاده از یک شیء برای نمایش هر رأس است.\n",
    "برای استفاده‌ی بهینه‌تر از حافظه می‌توان برای هر رأس تنها ۳ اشاره‌گر انتخاب کرد:\n",
    "<ul>\n",
    "\t<li>left_child که اشاره می‌کند به چپ‌ترین بچه‌ی یک رأس</li>\n",
    "\t<li>right sibling که به رأس بعدی در سمت راست خود اشاره می‌کند</li>\n",
    "\t<li>parent به که پدر خود اشاره می‌کند</li>\n",
    "</ul>\n",
    "<div style=\"align:middle\">\n",
    "\n",
    "</div>\n",
    "</font></div>"
   ]
  },
  {
   "cell_type": "code",
   "execution_count": 56,
   "metadata": {
    "collapsed": true
   },
   "outputs": [],
   "source": [
    "class TreeNode:\n",
    "    def __init__(self, label):\n",
    "        self.parent = None\n",
    "        self.left_child = None\n",
    "        self.right_sibling = None\n",
    "        self.label = label\n",
    "        \n",
    "    def __str__(self):\n",
    "        return \"TreeNode(%s)\" % str(self.label)"
   ]
  },
  {
   "cell_type": "markdown",
   "metadata": {},
   "source": [
    "<div style=\"direction:rtl;line-height:300%;\"><font face=\"XB Zar\" size=5>\n",
    "حال درختی با استفاده از رأس‌های بالا تعریف می‌کنیم و نحوه‌ی اضافه کردن رأس به آن را با ۲ روش پیاده‌سازی کرده‌ایم. آن‌ها را تحلیل کنید.\n",
    "</font></div>"
   ]
  },
  {
   "cell_type": "code",
   "execution_count": 57,
   "metadata": {
    "collapsed": true
   },
   "outputs": [],
   "source": [
    "class Tree:\n",
    "    def __init__(self):\n",
    "        self.root = None\n",
    "\n",
    "    def assign_root(self, label):\n",
    "        assert self.root is None\n",
    "        self.root = TreeNode(label)\n",
    "\n",
    "    def is_empty(self):\n",
    "        return self.root is None\n",
    "\n",
    "    def add_new_node_1(self, parent, label):\n",
    "        new_node = TreeNode(label)\n",
    "        left_child = parent.left_child\n",
    "        parent.left_child = new_node\n",
    "        new_node.right_sibling = left_child\n",
    "        new_node.parent = parent\n",
    "        return new_node\n",
    "\n",
    "    def add_new_node_2(self, parent, label):\n",
    "        new_node = TreeNode(label)\n",
    "        new_node.parent = parent\n",
    "        if parent.left_child is None:\n",
    "            parent.left_child = new_node\n",
    "        else:\n",
    "            left_child = parent.left_child\n",
    "            while left_child.right_sibling is not None:\n",
    "                left_child = left_child.right_sibling\n",
    "            left_child.right_sibling = new_node\n",
    "        return new_node\n",
    "\n",
    "    def add_new_node(self, parent, label):\n",
    "        return self.add_new_node_2(parent, label)\n",
    "        \n",
    "tree = Tree()\n",
    "tree.assign_root(3)"
   ]
  },
  {
   "cell_type": "markdown",
   "metadata": {},
   "source": [
    "<div style=\"direction:rtl;line-height:300%;\"><font face=\"XB Zar\" size=5>\n",
    "حال اگر بخواهیم رأسی را بر حسب label آن بیابیم. کاری مشابه تابع زیر می‌توان انجام داد:\n",
    "</font></div>"
   ]
  },
  {
   "cell_type": "code",
   "execution_count": 58,
   "metadata": {
    "collapsed": false
   },
   "outputs": [
    {
     "name": "stdout",
     "output_type": "stream",
     "text": [
      "TreeNode(2)\n"
     ]
    }
   ],
   "source": [
    "def find_in_subtree(tree, label, node):\n",
    "    if node.label == label:\n",
    "        return node\n",
    "\n",
    "    child = node.left_child\n",
    "    while child is not None:\n",
    "        result = tree.find_in_subtree(label, child)\n",
    "        if result is not None:\n",
    "            return result\n",
    "        child = child.right_sibling\n",
    "\n",
    "    return None\n",
    "\n",
    "\n",
    "def find_by_label(tree, label):\n",
    "    if tree.is_empty():\n",
    "        return None\n",
    "    return tree.find_in_subtree(label, tree.root)\n",
    "\n",
    "\n",
    "Tree.find_by_label = find_by_label\n",
    "Tree.find_in_subtree = find_in_subtree\n",
    "\n",
    "tree.add_new_node(tree.root, 9)\n",
    "\n",
    "\n",
    "def add_new_node_by_label(tree, parent_label, label):\n",
    "    tree.add_new_node(tree.find_by_label(parent_label), label)\n",
    "Tree.add_new_node_by_label = add_new_node_by_label\n",
    "\n",
    "\n",
    "tree.add_new_node_by_label(9, 2)\n",
    "tree.add_new_node_by_label(3, 4)\n",
    "tree.add_new_node_by_label(4, 10)\n",
    "tree.add_new_node_by_label(4, 6)\n",
    "tree.add_new_node_by_label(4, 5)\n",
    "tree.add_new_node_by_label(2, 8)\n",
    "tree.add_new_node_by_label(6, 7)\n",
    "tree.add_new_node_by_label(8, 1)\n",
    "\n",
    "print tree.find_by_label(2)"
   ]
  },
  {
   "cell_type": "markdown",
   "metadata": {},
   "source": [
    "<div style=\"direction:rtl;line-height:300%;\"><font face=\"XB Zar\" size=5>\n",
    "حال اگر بخواهیم رأسی را بر حسب label آن بیابیم. کاری مشابه تابع زیر می‌توان انجام داد:\n",
    "</font></div>"
   ]
  },
  {
   "cell_type": "code",
   "execution_count": 59,
   "metadata": {
    "collapsed": false
   },
   "outputs": [
    {
     "name": "stdout",
     "output_type": "stream",
     "text": [
      "10\n"
     ]
    }
   ],
   "source": [
    "def get_subtree_size(tree, node):\n",
    "    if node is None:\n",
    "        return 0\n",
    "\n",
    "    count = 1\n",
    "    child = node.left_child\n",
    "    while child is not None:\n",
    "        count += get_subtree_size(tree, child)\n",
    "        child = child.right_sibling\n",
    "\n",
    "    return count\n",
    "\n",
    "\n",
    "def get_size(tree):\n",
    "    if tree.is_empty():\n",
    "        return 0\n",
    "    return tree.get_subtree_size(tree.root)\n",
    "\n",
    "\n",
    "Tree.get_subtree_size = get_subtree_size\n",
    "Tree.get_size = get_size\n",
    "\n",
    "print tree.get_size()"
   ]
  },
  {
   "cell_type": "markdown",
   "metadata": {},
   "source": [
    "<div style=\"direction:rtl;line-height:300%;\"><font face=\"XB Zar\" size=5>\n",
    "پیمایش درخت‌ها و ترتیب حاصل از نوع پیمایش در بسیاری از مسائل کاربرد دارند. در این‌جا به ۳ نوع پرکاربرد می‌پردازیم.\n",
    "<p></p>\n",
    "اولین نوع پیمایش، پیمایش پیش‌ترتیب یا \n",
    "$preorder$\n",
    "است که در آن هر رأس پیش از هر فرزندانش پیمایش می‌شود.\n",
    "\n",
    "</font></div>"
   ]
  },
  {
   "cell_type": "code",
   "execution_count": 60,
   "metadata": {
    "collapsed": false
   },
   "outputs": [
    {
     "name": "stdout",
     "output_type": "stream",
     "text": [
      "[3, 9, 2, 8, 1, 4, 10, 6, 7, 5]\n"
     ]
    }
   ],
   "source": [
    "def pre_order(tree, node):\n",
    "    order_list = list()\n",
    "    if node is None:\n",
    "        return order_list\n",
    "\n",
    "    order_list.append(node.label)\n",
    "    child = node.left_child\n",
    "    while child is not None:\n",
    "        order_list.extend(tree.pre_order(child))\n",
    "        child = child.right_sibling\n",
    "\n",
    "    return order_list\n",
    "\n",
    "Tree.pre_order = pre_order\n",
    "\n",
    "print tree.pre_order(tree.root)"
   ]
  },
  {
   "cell_type": "markdown",
   "metadata": {},
   "source": [
    "<div style=\"direction:rtl;line-height:300%;\"><font face=\"XB Zar\" size=5>\n",
    "<p></p>\n",
    "نوع دوم پیمایش، پیمایش پس‌ترتیب یا\n",
    "$postorder$\n",
    "است که در آن هر رأس را پس از فرزندانش می‌پیماییم.\n",
    "\n",
    "</font></div>"
   ]
  },
  {
   "cell_type": "code",
   "execution_count": 67,
   "metadata": {
    "collapsed": false
   },
   "outputs": [
    {
     "name": "stdout",
     "output_type": "stream",
     "text": [
      "[1, 8, 2, 9, 10, 7, 6, 5, 4, 3]\n"
     ]
    }
   ],
   "source": [
    "def post_order(tree, node):\n",
    "    order_list = list()\n",
    "    if node is None:\n",
    "        return order_list\n",
    "\n",
    "    child = node.left_child\n",
    "    while child is not None:\n",
    "        order_list.extend(tree.post_order(child))\n",
    "        child = child.right_sibling\n",
    "    order_list.append(node.label)\n",
    "\n",
    "    return order_list\n",
    "\n",
    "Tree.post_order = post_order\n",
    "\n",
    "print tree.post_order(tree.root)"
   ]
  },
  {
   "cell_type": "markdown",
   "metadata": {},
   "source": [
    "<div style=\"direction:rtl;line-height:300%;\"><font face=\"XB Zar\" size=5>\n",
    "<p></p>\n",
    "سومین نوع پیمایش، پیمایش به‌ترتیب یا \n",
    "$inorder$\n",
    "است که در آن فرزند چپ هر رأس (در صورت وجود) قبل از آن رأس و فرزندان دیگرش پس از آن رأس پیموده می‌شوند.\n",
    "</font></div>"
   ]
  },
  {
   "cell_type": "code",
   "execution_count": 70,
   "metadata": {
    "collapsed": false
   },
   "outputs": [
    {
     "name": "stdout",
     "output_type": "stream",
     "text": [
      "[1, 8, 2, 9, 3, 10, 4, 7, 6, 5]\n"
     ]
    }
   ],
   "source": [
    "def in_order(tree, node):\n",
    "    order_list = list()\n",
    "    if node is None:\n",
    "        return order_list\n",
    "\n",
    "    child = node.left_child\n",
    "    order_list.extend(tree.in_order(child))\n",
    "    order_list.append(node.label)\n",
    "    while child is not None:\n",
    "        child = child.right_sibling\n",
    "        order_list.extend(tree.in_order(child))\n",
    "\n",
    "    return order_list\n",
    "\n",
    "\n",
    "Tree.in_order = in_order\n",
    "\n",
    "print tree.in_order(tree.root)"
   ]
  }
 ],
 "metadata": {
  "celltoolbar": "Slideshow",
  "kernelspec": {
   "display_name": "Python 2",
   "language": "python",
   "name": "python2"
  },
  "language_info": {
   "codemirror_mode": {
    "name": "ipython",
    "version": 2
   },
   "file_extension": ".py",
   "mimetype": "text/x-python",
   "name": "python",
   "nbconvert_exporter": "python",
   "pygments_lexer": "ipython2",
   "version": "2.7.9"
  }
 },
 "nbformat": 4,
 "nbformat_minor": 0
}
