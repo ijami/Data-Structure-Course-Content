{
 "cells": [
  {
   "cell_type": "markdown",
   "metadata": {},
   "source": [
    "<div style=\"direction:rtl;line-height:300%;\"><font face=\"XB Zar\" size=5>\n",
    "<div style=\"direction:rtl;line-height:300%;\"><font face=\"XB Zar\" size=5>\n",
    "<div align=center>\n",
    "<font face=\"IranNastaliq\" size=30>\n",
    "<p></p>\n",
    "به نام خدا\n",
    "</font>\n",
    "<br>\n",
    "<font color=#FF7500>\n",
    "دانشگاه صنعتی شریف - دانشکده مهندسی کامپیوتر\n",
    "</font>\n",
    "<br>\n",
    "<font color=blue>\n",
    "داده‌ساختارها و الگوریتم‌ها\n",
    "</font>\n",
    "</div>\n",
    "علی شریفی زارچی\n",
    "<span style=\"float:left;\">\n",
    "ترم دوم سال تحصیلی ۱۳۹۴-۹۵\n",
    "</span>\n",
    "<hr/>\n",
    "<font color=red size=6>\n",
    "<p></p>\n",
    "\n",
    "<div align=center>\n",
    "فصل پنجم: تحلیل سرشکن</div>\n",
    "</font>\n",
    "<div align=left>\n",
    "ایلیاد رمضانی و محمدمهدی جهان‌آرا</div>\n",
    "<hr>\n",
    "</font></div>"
   ]
  },
  {
   "cell_type": "markdown",
   "metadata": {},
   "source": [
    "<div style=\"direction:rtl;line-height:300%;\"><font face=\"XB Zar\" size=5>\n",
    "<font color=#FF7500>تحلیل بدبینانه؟\n",
    "</font><p></p>\n",
    "در بخش قبلی با تحلیل الگوریتم‌ها در بدترین حالت آشنا شدیم، در واقع یادگرفتیم چگونه برای هزینه‌ی اعمال در بدترین حالت کران بالا پیدا کنیم. گاهی ممکن است با داده‌ساختاری مواجه شویم که هزینه‌ی یک عمل در آن بعضی مواقع بسیار بیشتر تر از مواقع دیگر است! شمارنده‌ی دودویی یکی از این داده‌ساختار هاست.<br /> <br/>\n",
    "\n",
    "<font color=#FF7500>\n",
    "شمارنده‌ی دودویی:\n",
    "</font><p></p>\n",
    "فرض کنید یک شمارندهٔ دودویی n بیتی داریم که درابتدا عدد 0 را نشان می‌دهد. در هر مرحله عددی که این نمایشگر نشان می‌دهد یک واحد زیاد می‌کنیم. فرض کنید برای تغییر هر بیت از این شمارنده باید یک تومان پول بپردازیم.\n",
    "برای مثال در زیر هزینه مراحل یک شمارندهٔ دودویی ۳ بیتی نشان داده شده است:\n",
    "<p></p>\n",
    "\n",
    "<div align=\"center\">\n",
    "<table>\n",
    "<tr>\n",
    "    <td>مرحله</td>\n",
    "    <td>بیت ۱</td>\n",
    "    <td>بیت ۲</td>\n",
    "    <td>بیت ۳</td>\n",
    "    <td>هزینه</td>\n",
    "</tr>\n",
    "<tr>\n",
    "    <td>صفر</td>\n",
    "    <td>۰</td>\n",
    "    <td>۰</td>\n",
    "    <td>۰</td>\n",
    "    <td>۰</td>\n",
    "</tr>\n",
    "<tr>\n",
    "    <td>یک</td>\n",
    "    <td>۱</td>\n",
    "    <td>۰</td>\n",
    "    <td>۰</td>\n",
    "    <td>۱</td>\n",
    "</tr>\n",
    "<tr>\n",
    "    <td>دو</td>\n",
    "    <td>۰</td>\n",
    "    <td>۱</td>\n",
    "    <td>۰</td>\n",
    "    <td>۲</td>\n",
    "</tr>\n",
    "<tr>\n",
    "    <td>سه</td>\n",
    "    <td>۱</td>\n",
    "    <td>۱</td>\n",
    "    <td>۰</td>\n",
    "    <td>۱</td>\n",
    "</tr>\n",
    "<tr>\n",
    "    <td>چهار</td>\n",
    "    <td>۰</td>\n",
    "    <td>۰</td>\n",
    "    <td>۱</td>\n",
    "    <td>۳</td>\n",
    "</tr>\n",
    "<tr>\n",
    "    <td>پنج</td>\n",
    "    <td>۱</td>\n",
    "    <td>۰</td>\n",
    "    <td>۱</td>\n",
    "    <td>۱</td>\n",
    "</tr>\n",
    "</table>\n",
    "</div>\n",
    "\n",
    "<p></p>\n",
    "هزینه‌ی اضافه کردن عدد شمارنده در هر مرحله دست بالا از $ O(n)$ است. مثلا حالتی که شمارنده عدد $2 ^ {n} -1 $ را نشان می‌دهد در نظر بگیرید، برای زیاد کردن عدد شمارنده باید مقدار $n$ بیت را عوض کنیم. با این حساب اگر بخواهیم تا $m$ بشماریم هزینه‌ی کل از مرتبه‌ی$ O(n \\times m)$ خواهد بود، اما در واقعیت هزینه‌ی بسیار کمتر است!\n",
    "<p></p>\n",
    "ابتدا رفتار این شمارنده را به وسیله‌ی توابع زیر شبیه‌سازی می‌کنیم:\n",
    "</font></div>\n"
   ]
  },
  {
   "cell_type": "code",
   "execution_count": 4,
   "metadata": {
    "collapsed": true
   },
   "outputs": [],
   "source": [
    "%matplotlib inline\n",
    "from matplotlib.pyplot import *\n",
    "rcParams.update({'font.size': 25, 'font.family': 'serif', 'lines.linewidth':3})"
   ]
  },
  {
   "cell_type": "code",
   "execution_count": 57,
   "metadata": {
    "collapsed": false
   },
   "outputs": [],
   "source": [
    "def increase(counter):\n",
    "    n = len(counter)\n",
    "    cost = 0\n",
    "    for i in range(n-1, -1, -1): # Reverse loop from n-1 to 0\n",
    "        cost += 1\n",
    "        if counter[i] == 1:\n",
    "            counter[i] = 0\n",
    "        else:   # counter[i] == 0\n",
    "            counter[i] = 1\n",
    "            break;\n",
    "    return cost\n",
    "\n",
    "def simulate(n, m): \n",
    "    # n: length of counter, m: number of increments\n",
    "    counter = [0] * n\n",
    "    cost = [0] * (m + 1)\n",
    "    total_cost = [0] * (m + 1) \n",
    "    # total_cost[i] = total cost after i increament\n",
    "    # total_cost[0] = 0\n",
    "    for i in range(1, m + 1):\n",
    "        cost[i] = increase(counter)\n",
    "        total_cost[i] = cost[i] + total_cost[i - 1]\n",
    "        print \"Step \", i, \"\\tCounter \", counter,\n",
    "        print \"\\tCost \", cost[i], \"\\tTotal \", total_cost[i]\n",
    "    # Plot \n",
    "    plot_cost(cost, total_cost)"
   ]
  },
  {
   "cell_type": "markdown",
   "metadata": {},
   "source": [
    "<div style=\"direction:rtl;line-height:300%;\"><font face=\"XB Zar\" size=5>\n",
    "حال یک تابع برای رسم نمودار هزینه‌ی هر بار افزایش شمارنده (تعداد بیت‌هایی که باید در هر گام تغییر کنند)\n",
    "</font></div>"
   ]
  },
  {
   "cell_type": "code",
   "execution_count": 67,
   "metadata": {
    "collapsed": false
   },
   "outputs": [],
   "source": [
    "def plot_cost(cost, total_cost):\n",
    "    figure(figsize=(20, 10))\n",
    "    xlabel(\"Step\")\n",
    "    ylabel(\"Step cost (blue), Total cost (green)\")\n",
    "    x = range(len(total_cost))\n",
    "    bar(x, cost)\n",
    "    plot(x, total_cost, 'g')"
   ]
  },
  {
   "cell_type": "code",
   "execution_count": 63,
   "metadata": {
    "collapsed": false
   },
   "outputs": [
    {
     "name": "stdout",
     "output_type": "stream",
     "text": [
      "Step  1 \tCounter  [0, 0, 0, 1] \tCost  1 \tTotal  1\n",
      "Step  2 \tCounter  [0, 0, 1, 0] \tCost  2 \tTotal  3\n",
      "Step  3 \tCounter  [0, 0, 1, 1] \tCost  1 \tTotal  4\n",
      "Step  4 \tCounter  [0, 1, 0, 0] \tCost  3 \tTotal  7\n",
      "Step  5 \tCounter  [0, 1, 0, 1] \tCost  1 \tTotal  8\n",
      "Step  6 \tCounter  [0, 1, 1, 0] \tCost  2 \tTotal  10\n",
      "Step  7 \tCounter  [0, 1, 1, 1] \tCost  1 \tTotal  11\n",
      "Step  8 \tCounter  [1, 0, 0, 0] \tCost  4 \tTotal  15\n",
      "Step  9 \tCounter  [1, 0, 0, 1] \tCost  1 \tTotal  16\n",
      "Step  10 \tCounter  [1, 0, 1, 0] \tCost  2 \tTotal  18\n",
      "Step  11 \tCounter  [1, 0, 1, 1] \tCost  1 \tTotal  19\n",
      "Step  12 \tCounter  [1, 1, 0, 0] \tCost  3 \tTotal  22\n",
      "Step  13 \tCounter  [1, 1, 0, 1] \tCost  1 \tTotal  23\n",
      "Step  14 \tCounter  [1, 1, 1, 0] \tCost  2 \tTotal  25\n",
      "Step  15 \tCounter  [1, 1, 1, 1] \tCost  1 \tTotal  26\n",
      "Step  16 \tCounter  [0, 0, 0, 0] \tCost  4 \tTotal  30\n"
     ]
    },
    {
     "data": {
      "image/png": "[encoded data removed]",
      "text/plain": [
       "<matplotlib.figure.Figure at 0x1076dee90>"
      ]
     },
     "metadata": {},
     "output_type": "display_data"
    }
   ],
   "source": [
    "simulate(4, 2**4)"
   ]
  },
  {
   "cell_type": "code",
   "execution_count": 64,
   "metadata": {
    "collapsed": false
   },
   "outputs": [
    {
     "name": "stdout",
     "output_type": "stream",
     "text": [
      "Step  1 \tCounter  [0, 0, 0, 0, 1] \tCost  1 \tTotal  1\n",
      "Step  2 \tCounter  [0, 0, 0, 1, 0] \tCost  2 \tTotal  3\n",
      "Step  3 \tCounter  [0, 0, 0, 1, 1] \tCost  1 \tTotal  4\n",
      "Step  4 \tCounter  [0, 0, 1, 0, 0] \tCost  3 \tTotal  7\n",
      "Step  5 \tCounter  [0, 0, 1, 0, 1] \tCost  1 \tTotal  8\n",
      "Step  6 \tCounter  [0, 0, 1, 1, 0] \tCost  2 \tTotal  10\n",
      "Step  7 \tCounter  [0, 0, 1, 1, 1] \tCost  1 \tTotal  11\n",
      "Step  8 \tCounter  [0, 1, 0, 0, 0] \tCost  4 \tTotal  15\n",
      "Step  9 \tCounter  [0, 1, 0, 0, 1] \tCost  1 \tTotal  16\n",
      "Step  10 \tCounter  [0, 1, 0, 1, 0] \tCost  2 \tTotal  18\n",
      "Step  11 \tCounter  [0, 1, 0, 1, 1] \tCost  1 \tTotal  19\n",
      "Step  12 \tCounter  [0, 1, 1, 0, 0] \tCost  3 \tTotal  22\n",
      "Step  13 \tCounter  [0, 1, 1, 0, 1] \tCost  1 \tTotal  23\n",
      "Step  14 \tCounter  [0, 1, 1, 1, 0] \tCost  2 \tTotal  25\n",
      "Step  15 \tCounter  [0, 1, 1, 1, 1] \tCost  1 \tTotal  26\n",
      "Step  16 \tCounter  [1, 0, 0, 0, 0] \tCost  5 \tTotal  31\n",
      "Step  17 \tCounter  [1, 0, 0, 0, 1] \tCost  1 \tTotal  32\n",
      "Step  18 \tCounter  [1, 0, 0, 1, 0] \tCost  2 \tTotal  34\n",
      "Step  19 \tCounter  [1, 0, 0, 1, 1] \tCost  1 \tTotal  35\n",
      "Step  20 \tCounter  [1, 0, 1, 0, 0] \tCost  3 \tTotal  38\n",
      "Step  21 \tCounter  [1, 0, 1, 0, 1] \tCost  1 \tTotal  39\n",
      "Step  22 \tCounter  [1, 0, 1, 1, 0] \tCost  2 \tTotal  41\n",
      "Step  23 \tCounter  [1, 0, 1, 1, 1] \tCost  1 \tTotal  42\n",
      "Step  24 \tCounter  [1, 1, 0, 0, 0] \tCost  4 \tTotal  46\n",
      "Step  25 \tCounter  [1, 1, 0, 0, 1] \tCost  1 \tTotal  47\n",
      "Step  26 \tCounter  [1, 1, 0, 1, 0] \tCost  2 \tTotal  49\n",
      "Step  27 \tCounter  [1, 1, 0, 1, 1] \tCost  1 \tTotal  50\n",
      "Step  28 \tCounter  [1, 1, 1, 0, 0] \tCost  3 \tTotal  53\n",
      "Step  29 \tCounter  [1, 1, 1, 0, 1] \tCost  1 \tTotal  54\n",
      "Step  30 \tCounter  [1, 1, 1, 1, 0] \tCost  2 \tTotal  56\n",
      "Step  31 \tCounter  [1, 1, 1, 1, 1] \tCost  1 \tTotal  57\n",
      "Step  32 \tCounter  [0, 0, 0, 0, 0] \tCost  5 \tTotal  62\n"
     ]
    },
    {
     "data": {
      "image/png": "[encoded data removed]",
      "text/plain": [
       "<matplotlib.figure.Figure at 0x1082c9190>"
      ]
     },
     "metadata": {},
     "output_type": "display_data"
    }
   ],
   "source": [
    "simulate(5, 2**5)"
   ]
  },
  {
   "cell_type": "markdown",
   "metadata": {},
   "source": [
    "<div style=\"direction:rtl;line-height:300%;\"><font face=\"XB Zar\" size=5>\n",
    "نکته‌ی جالب اینست که قبل از هر عمل پر هزینه در شمارنده‌ی دودویی چندین عمل کم هزینه‌تر داریم. در واقع به ازای هر i، هر $2^ {i - 1}$ مرحله یکبار بیت i-ام را تغییر می‌دهیم! پس برای شمردن از 0 تا m باید $\\sum_{i=1}^{\\lfloor lg m \\rfloor } \\frac{m}{2 ^ {i}} \\leq 2m$ هزینه بپردازیم که بسیار کمتر از $n \\times m$ است. \n",
    "<p></p>\n",
    "به عنوان مثال برای ۳۲ بار افزایش یک شمارنده‌ی ۵ بیتی مجموع هزینه ۶۲ است، در حالی که $n\\times m = 5 \\times 32 = 160$\n",
    "</font></div>"
   ]
  },
  {
   "cell_type": "markdown",
   "metadata": {},
   "source": [
    "<div style=\"direction:rtl;line-height:300%;\"><font face=\"XB Zar\" size=5>\n",
    "<font color=#FF7500>\n",
    "تحلیل سرشکن</font><p></p>\n",
    "<p></p>\n",
    "شمارنده‌ی دودویی مثالی از داده‌ساختار‌هایی بود که هزینه‌ی یک عمل در آن بعضی مواقع بسیار بیشتر تر از مواقع دیگر است، همچنین دیدیم که قبل از هر عمل پرهزینه باید تعداد زیادی عمل کم‌هزینه‌تر انجام شود. در رویارویی با داده‌ساختارهای شبیه به شمارنده‌ی دودویی تحلیل بدترین حالت به یک کران بالای درست ولی بدبینانه می‌انجامد. \n",
    "<br/><br/>\n",
    "تحلیل ‌سرشکن نوعی از تحلیل برای مواقعی است که دنباله‌ای از اعمال مشابه انجام می‌شود. ایده‌ی تحلیل سرشکن در نظر گرفتن هزینه‌ی میانگین دنباله‌ای از اعمال در بدترین حالت به جای در نظر گرفتن هزینه‌ی یک عمل در بدترین حالت است. سودمندی این نوع تحلیل زمانی مشخص می‌شود که قبل از انجام هر عمل پرهزینه تعداد قابل توجه‌ی عمل کم‌هزینه‌تر انجام می‌شود. مثلا در شمارنده‌ی دودویی هزینه‌ی میانگین هر عمل در بدترین حالت برابر با $\\frac {2m}{m} = O(1)$ است در حالی که هزینه‌ی یک عمل در بدترین حالت از مرتبه‌ی $O(nm)$ است.\n",
    "\n",
    "</font></div>"
   ]
  },
  {
   "cell_type": "markdown",
   "metadata": {
    "collapsed": true
   },
   "source": [
    "<div style=\"direction:rtl;line-height:300%;\"><font face=\"XB Zar\" size=5>\n",
    "<font color=#FF7500>\n",
    "مثال : پیاده سازی پشته با استفاده از آرایه\n",
    "</font><p></p>\n",
    "می‌خواهیم یک پشته را با استفاده از آرایه پیاده سازی کنیم. فرض کنید یک آرایه به نام A و یک متغیر به نام top داریم که اندیس اولین خانه ی خالی‌ A است.\n",
    "<br />\n",
    "برای پیاده سازی تابع اضافه کردن عدد x به پشته (push) کافی است عملیات زیر را انجام دهیم:\n",
    "<p></p>\n",
    "\n",
    "\n",
    "</font></div>"
   ]
  },
  {
   "cell_type": "code",
   "execution_count": 1,
   "metadata": {
    "collapsed": false
   },
   "outputs": [],
   "source": [
    "def push(x):\n",
    "    A[top] = x\n",
    "    top = top + 1"
   ]
  },
  {
   "cell_type": "markdown",
   "metadata": {},
   "source": [
    "<div style=\"direction:rtl;line-height:300%;\"><font face=\"XB Zar\" size=5>\n",
    "<p></p>\n",
    "برای پیاده سازی تابع حذف آخرین  عدد پشته و برگرداندن آن (pop) کافی است عملیات زیر را انجام دهیم:\n",
    "\n",
    "</font></div>"
   ]
  },
  {
   "cell_type": "code",
   "execution_count": 1,
   "metadata": {
    "collapsed": true
   },
   "outputs": [],
   "source": [
    "def pop():\n",
    "    top = top - 1\n",
    "    x = A[top]"
   ]
  },
  {
   "cell_type": "markdown",
   "metadata": {},
   "source": [
    "<div style=\"direction:rtl;line-height:300%;\"><font face=\"XB Zar\" size=3>\n",
    "(در کد بالا فرض کردیم که top مخالف 0 باشد)\n",
    "\n",
    "</font></div>"
   ]
  },
  {
   "cell_type": "markdown",
   "metadata": {
    "collapsed": true
   },
   "source": [
    "<div style=\"direction:rtl;line-height:300%;\"><font face=\"XB Zar\" size=5>\n",
    "با توجه محدود بودن طول آرایه، اگر آرایه هنگام اضافه کردن عضو جدید به پشته پر شده باشد باید چه کنیم؟ باید یک آرایه با طولی بزرگتر از طول آرایهٔ فعلی تعریف کنیم، اعضای آرایهٔ قبلی را به آرایهٔ جدید منتقل کنیم و کار را در آن‌ ادامه دهیم.\n",
    "<br/>\n",
    "این عملیات هزینهٔ زیادی به دنبال دارد، در نتیجه عملیات اضافه کردنی که منجر به این اتفاق می‌شوند زمان گیر خواهند بود، ولی‌ با توجه به هزینهٔ کم بسیاری از عملیات که ما را به این مرحله رسانده اند، اگر هزینهٔ سرشکن برای هر عملیات‌ را حساب کنیم، شاید هزینهٔ ی بسیار کمتری شود. فرض می‌کنیم که هزینهٔ انتقال یک آرایه به طول n به آرایهٔ جدید برابر n است.\n",
    "\n",
    "</font></div>"
   ]
  },
  {
   "cell_type": "markdown",
   "metadata": {},
   "source": [
    "<div style=\"direction:rtl;line-height:300%;\"><font face=\"XB Zar\" size=5>\n",
    "<br />\n",
    "حالت اول:\n",
    "<br/>\n",
    "اگر هنگام تعریف آرایهٔ جدید طول آن را یکی‌ بیش از طول آرایهٔ قبلی قرار دهیم، هزینهٔ سرشکن کل عملیات معقول میشود؟\n",
    "<br />\n",
    "خیر. اگر n عملیات اضافه کردن متوالی را در نظر بگیریم، هزینهٔ کپی‌ کردن اعداد به ترتیب برابر ۱، ۲، ...،$n-1$ خواهد شد، پس کل هزینه برابر $\\frac{n\\times(n-1)}{2}$ است و به صورت سرشکن هر عملیات $\\frac{n-1}{2}$ هزینه دارد.\n",
    "\n",
    "</font></div>"
   ]
  },
  {
   "cell_type": "markdown",
   "metadata": {},
   "source": [
    "<div style=\"direction:rtl;line-height:300%;\"><font face=\"XB Zar\" size=5>\n",
    "<br />\n",
    "حالت دوم:\n",
    "<br/>\n",
    "اگر هنگام تعریف آرایهٔ جدید طول آن را دو برابر طول آرایهٔ قبلی قرار دهیم، هزینهٔ سرشکن کل عملیات چه می‌شود؟\n",
    "<br /> <br/>\n",
    "در این حالت اگر $n$ عملیات داشته باشیم ۱ + ۲ + ۴ + ... + $2^{i}$ عملیات کپی‌ کردن خواهیم داشت که $i < log(n)$ (اگر همهٔ عملیات از نوع اضافه کردن باشند، i بزرگترین عددی است که $2^i$ کمتر از $n$ است) در نتیجه این تعداد کمتر از$ 2\\times n$ عملیات است و اگر هزینهٔ $n$ عملیات دیگر را هم در نظر بگیریم، برای هر عملیات هزینهٔ سرشکن ۳ بدست می‌اید.\n",
    "\n",
    "</font></div>"
   ]
  },
  {
   "cell_type": "markdown",
   "metadata": {},
   "source": [
    "<div style=\"direction:rtl;line-height:300%;\"><font face=\"XB Zar\" size=5>\n",
    "<font color=#FF7500>\n",
    "روش حسابداری</font><p></p>\n",
    "<p></p>\n",
    "یک راه دیگر برای حساب کردن هزینهٔ سرشکن عملیات، روش حسابداری می‌باشد. برای مثال، مسالهٔ قبل را دوباره در نظر بگیرید، به ازای هر عملیات اضافه کردن، ۱ تومان هزینه برای انجام دادن آن می‌پردازیم و ۲ تومان را در یک حساب فرضی‌ می‌ریزیم. پس برای هر عملیات ۳ تومان هزینه می‌کنیم. هر وقت که مجبور به دو برابر کردن طول آرایه شدیم، از پولی‌ که در حسابمان ذخیره کرده ایم استفاده می‌کنیم. چرا هیچ‌وقت پول کم نمی‌اوریم؟\n",
    "<br/><br/>\n",
    "فرض کنید طول آرایه‌ای که پر شده است و قصد انتقال آن‌ را داریم برابر L است. پس اگر $L$ تومان پول در بانک داشته باشیم میتوانیم هزینهٔ انتقال آرایه را بپردازیم.توجه کنید که از آخرین باری که عملیات انتقال را انجام داده ایم،$\\frac {L}{2} $اضافه کردن داشته‌ایم.\n",
    "<br/>\n",
    "و در نتیجه در حسابمان حداقل به مقدار $L$ تومان پول داریم.\n",
    "<br/>\n",
    "پس اگر برای هر عملیات ۳ تومان هزینه کنیم، همواره میتوانیم همهٔ هزینه‌ها را پرداخت کنیم. در نتیجه هزینهٔ سرشکن هر عملیات برابر ۳ است.\n",
    "<br/> <br/>\n",
    "دقت کنید که در محاسبه هزینهٔ سرشکن، هزینه‌ای که بدست می‌آوریم به ازای هر ترتیبی از عملیات داده شده همچنان حداکثر میانگین هزینهٔ عملیات است و بر خلاف حساب کردن مرتبه زمانی متوسط، ما راجع به ورودی فرضی‌ مانند تصادفی بودن آن‌‌ها نکردیم، فقط میانگین هزینهٔ عملیات در طول زمان را حساب کردیم.\n",
    "\n",
    "<br/><br/>\n",
    "به نظر شما با استفاده از روش حسابداری چگونه می‌توان مسالهٔ شمارندهٔ دودویی را حل کرد؟\n",
    "</font></div>"
   ]
  },
  {
   "cell_type": "markdown",
   "metadata": {},
   "source": [
    "<div style=\"direction:rtl;line-height:300%;\"><font face=\"XB Zar\" size=5>\n",
    "<font color=#FF7500>\n",
    "تحلیل شمارنده‌ی دودویی به روش حسابداری</font><p></p>\n",
    "<p></p>\n",
    "<p></p>\n",
    "برای تغییر هر بیت ۰ به ۱، ۱تومان هزینه می‌کنیم و ۱ تومان هم پس انداز می‌کنیم. برای راحتی کار فرض کنید که هر بیت حساب جداگانه‌ای برای خودش دارد، در نتیجه هر گاه که می‌خواهیم یک بیت ۱ را به ۰ تغییر دهیم، چون قبلاً این بیت از ۰ به ۱ تبیدل شده است ۱ تومان در حسابش دارد، پس از همان پول برای تغییر این بیت استفاده می‌کنیم. هر مرحله می‌تواند تعدادی تغییر بیت از ۱ به ۰ داشته باشد، ولی‌ دقیقا یک بیت از ۰ به ۱ تغییر پیدا می‌کند، در نتیجه هزینه‌ای که برای هر مرحله می‌پردازیم برابر ۲ تومان است که معادل هزینه سرشکن هر مرحله می‌باشد.\n",
    "</font></div>"
   ]
  },
  {
   "cell_type": "markdown",
   "metadata": {},
   "source": [
    "<div style=\"direction:rtl;line-height:300%;\"><font face=\"XB Zar\" size=5>\n",
    "<font color=#FF7500>\n",
    "مثال : پشته با حافظه‌ی بهینه</font><p></p>\n",
    "<p></p>\n",
    "<p></p>\n",
    "در مسالهٔ پیاده سازی پشته، طول آرایه را $L$ و تعداد اعضای پشته را $n$ در نظر بگیرید، می‌خواهیم L همواره از مرتبه $ O(n)$ باشد.\n",
    "<br/>\n",
    "در الگوریتم فعلی اگر ۱۰۰۰ عملیات اضافه کردن و سپس ۹۹۹ عملیات حذف کردن را انجام دهیم، آرایه‌ای به طول ۱۰۲۴ خواهیم داشت (چرا؟)،  که فقط ۱ خانه از آن‌ استفاده شده است و مقدار زیادی حافظهٔ بی‌استفاده گرفته شده.\n",
    "<br/>\n",
    " راهکاری برای درست کردن این مشکل ارائه دهید و سپس هزینهٔ سرشکن عملیات را محاسبه کنید.\n",
    "</font></div>"
   ]
  }
 ],
 "metadata": {
  "kernelspec": {
   "display_name": "Python 2",
   "language": "python",
   "name": "python2"
  },
  "language_info": {
   "codemirror_mode": {
    "name": "ipython",
    "version": 2
   },
   "file_extension": ".py",
   "mimetype": "text/x-python",
   "name": "python",
   "nbconvert_exporter": "python",
   "pygments_lexer": "ipython2",
   "version": "2.7.9"
  }
 },
 "nbformat": 4,
 "nbformat_minor": 0
}
