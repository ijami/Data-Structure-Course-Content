{
 "cells": [
  {
   "cell_type": "markdown",
   "metadata": {},
   "source": [
    "<div style=\"direction:rtl;line-height:300%;\"><font face=\"XB Zar\" size=5>\n",
    "<div align=center>\n",
    "<font face=\"IranNastaliq\" size=30>\n",
    "<p></p>\n",
    "به نام خدا\n",
    "</font>\n",
    "<br>\n",
    "<font color=#FF7500>\n",
    "دانشگاه صنعتی شریف - دانشکده مهندسی کامپیوتر\n",
    "</font>\n",
    "<br>\n",
    "<font color=blue>\n",
    "داده‌ساختارها و الگوریتم‌ها\n",
    "</font>\n",
    "</div>\n",
    "علی شریفی زارچی\n",
    "<span style=\"float:left;\">\n",
    "ترم دوم سال تحصیلی ۱۳۹۴-۹۵\n",
    "</span>\n",
    "<hr/>\n",
    "<font color=red size=6>\n",
    "<p></p>\n",
    "\n",
    "<div align=center>فصل دهم: صف اولویت</div>\n",
    "</font>\n",
    "<div align=left>\n",
    "محمدروغنی و پیمان جبارزاده\n",
    "</div>\n",
    "<hr>\n",
    "صف اولویت نوعی ساختمان داده است.\n",
    "<br>\n",
    "در صف عادی عناصر به ترتیبی که وارد صف می شدند به همان ترتیب از صف خارج می شدند. مانند یک صف نانوایی که افراد به ترتیب وارد شدن به نانوایی پشت سر هم قرار می گیرند.\n",
    "<br>\n",
    "اما در صف اولویت هر عنصر اولویتی دارد که جایگاهش با آن مشخص می شود.صف اولویت را می‌توان به اورژانس یک بیمارستان تشبیه کرد که هر بیمار با شدت بیماری بیشتر اولویت بیشتری برای رسیدگی دارد.\n",
    "<br>\n",
    "برای پیاده سازی صف اولویت از هرم استفاده می شود."
   ]
  },
  {
   "cell_type": "markdown",
   "metadata": {
    "collapsed": true
   },
   "source": [
    "<div style=\"direction:rtl;line-height:300%;\"><font face=\"XB Zar\" size=5>\n",
    "<font size=6>\n",
    "<p></p>\n",
    "هرم\n",
    "<p></p>\n",
    "</font>\n",
    "<hr>\n",
    "هرم یک نوع داده ساختار درختی است که در آن هر راس ارزشی دارد و هر راس حداکثر دو فرزند دارد و به ازای هر راسی که در نظر بگیریم ارزش راس های فرزند آن کمترمساوی آن راس است. هرم یک درخت دودویی کامل است که برگ های لایه ی آخر آن از چپ چیده شده اند. به این نوع هرم، هرم بیشینه می گویند. با توجه به این تعریف می توان نتیجه گرفت که راس با بیشترین ارزش در ریشه قرار دارد.\n",
    "<br>\n",
    "<img src=\"images/maxHeap.png\" style=\"float:center; width:40%\">\n",
    "<br>\n",
    "اگر در یک هرم به ازای هر راس ارزش راس های فرزندان آن بیشتر از آن راس باشد به آن هرم، هرم کمینه می گویند. \n",
    "با توجه به این تعریف می توان نتیجه گرفت که راس با ارزش کمینه در ریشه قرار دارد.\n",
    "<br>\n",
    "<img src=\"images/minHeap.png\" style=\"float:center; width:40%\">\n",
    "<br>"
   ]
  },
  {
   "cell_type": "markdown",
   "metadata": {},
   "source": [
    "<div style=\"direction:rtl;line-height:300%;\"><font face=\"XB Zar\" size=5>\n",
    "<font size=6>\n",
    "<p></p>\n",
    "عملیات ها\n",
    "</font>\n",
    "<hr>\n",
    "<ul>\n",
    "    <li> درج </li>\n",
    "    <li> حذف عنصر ماکسیمم </li>\n",
    "    <li> پیداکردن ماکسیمم </li>\n",
    "</ul>"
   ]
  },
  {
   "cell_type": "markdown",
   "metadata": {},
   "source": [
    "<p></p>\n",
    "<br>\n",
    "<div style=\"direction:rtl;line-height:300%;\"><font face=\"XB Zar\" size=5>\n",
    "<font size=6>\n",
    "درج\n",
    "</font>\n",
    "<p></p>\n",
    "\n",
    "<hr>\n",
    "در عمل درج ابتدا عنصر جدید را در راست ترین مکان آخرین لایه اضافه کرده و تا زمانی که از پدرش بزرگتر باشد مکان آن را با پدرش جابجا می کنیم.\n",
    "<br>\n",
    "<img src=\"images/insert.PNG\" style=\"float:center; width:40%\">\n",
    "<br>"
   ]
  },
  {
   "cell_type": "markdown",
   "metadata": {},
   "source": [
    "<p></p>\n",
    "<br>\n",
    "<div style=\"direction:rtl;line-height:300%;\"><font face=\"XB Zar\" size=5>\n",
    "<font size=6>\n",
    "حذف عنصر ماکسیمم\n",
    "</font>\n",
    "<p></p>\n",
    "\n",
    "<hr>\n",
    "برای حذف عنصر ماکسیمم با توجه به آنکه در ریشه درخت قرار دارد آن را حذف کرده و آخرین عنصر ( راست ترین عنصر در پایین ترین سطح) را که x نام دارد در ریشه قرار می دهیم.\n",
    "<br>\n",
    "<img src=\"images/delete.jpg\" style=\"float:center; width:40%\">\n",
    "<br>"
   ]
  },
  {
   "cell_type": "markdown",
   "metadata": {
    "collapsed": true
   },
   "source": [
    "<p></p>\n",
    "<br>\n",
    "<div style=\"direction:rtl;line-height:300%;\"><font face=\"XB Zar\" size=5>\n",
    "<font size=6>\n",
    "پیداکردن ماکسیمم\n",
    "</font>\n",
    "<p></p>\n",
    "\n",
    "<hr>\n",
    "با توجه به آنکه ماکسیمم در ریشه قرار دارد ریشه را بر می گردانیم."
   ]
  },
  {
   "cell_type": "markdown",
   "metadata": {},
   "source": [
    "<p></p>\n",
    "<br>\n",
    "<div style=\"direction:rtl;line-height:300%;\"><font face=\"XB Zar\" size=5>\n",
    "<font size=6>\n",
    "پیاده سازی Priority Queue با آرایه\n",
    "</font>\n",
    "<p></p>\n",
    "\n",
    "<hr>\n",
    "ریشه را در خانه صفر آرایه قرار می دهیم و پدر راس $i$ام در خانه $i/2$ و فرزند سمت چپ آن در $2*i$ و فرزند راست آن در خانه $2*i+1$ آرایه قرار دارد.\n",
    "<br>\n",
    "<img src=\"images/heap.png\" style=\"float:center; width:40%\">\n",
    "<br>"
   ]
  },
  {
   "cell_type": "code",
   "execution_count": 2,
   "metadata": {
    "collapsed": false
   },
   "outputs": [
    {
     "name": "stdout",
     "output_type": "stream",
     "text": [
      "4\n",
      "4\n",
      "10\n",
      "3\n",
      "2\n",
      "1\n",
      "0\n"
     ]
    }
   ],
   "source": [
    "def parent(i):\n",
    "    return i/2\n",
    "\n",
    "def left_child(i):\n",
    "    return 2*i\n",
    "\n",
    "def right_child(i):\n",
    "    return 2*i+1\n",
    "\n",
    "class PriorityQueue:\n",
    "    def __init__(self):\n",
    "        self.PQ = []\n",
    "  \n",
    "    def size(self):\n",
    "        return len(self.PQ)\n",
    "  \n",
    "    def push_down(self,ind):\n",
    "        biggest = ind\n",
    "        if left_child(ind) < self.size() and self.PQ[biggest] < self.PQ[left_child(ind)] :\n",
    "            biggest = left_child(ind)\n",
    "        if right_child(ind) < self.size() and self.PQ[biggest] < self.PQ[right_child(ind)] :\n",
    "            biggest = right_child(ind)\n",
    "        if ind != biggest :\n",
    "            self.PQ[ind],self.PQ[biggest]=self.PQ[biggest],self.PQ[ind]\n",
    "            self.push_down(biggest)\n",
    "\n",
    "    def list_to_priorityqueue(self,L):\n",
    "        self.PQ = L\n",
    "        for i in range(self.size()) :\n",
    "            self.push_down(self.size()-i-1)\n",
    "\n",
    "    def push(self, item):\n",
    "        self.PQ.append(item)\n",
    "        ind = self.size() - 1\n",
    "        while ind > 0 and self.PQ[ind] > self.PQ[parent(ind)] :\n",
    "            self.PQ[ind], self.PQ[parent(ind)] = self.PQ[parent(ind)], self.PQ[ind]\n",
    "            ind = parent(ind)\n",
    "  \n",
    "    def max(self) :\n",
    "        if self.size() == 0 :\n",
    "            raise Exception(\"Priority Queue is empty\")\n",
    "        return self.PQ[0]\n",
    "\n",
    "    def pop(self) :\n",
    "        if self.size() == 0 :\n",
    "            raise Exception(\"Priority Queue is empty\")\n",
    "        MAX = self.PQ[0]\n",
    "        self.PQ[0] = self.PQ[self.size() - 1]\n",
    "        del(self.PQ[self.size() - 1])\n",
    "        self.push_down(0)\n",
    "        return MAX\n",
    "\n",
    "pq = PriorityQueue()\n",
    "pq.list_to_priorityqueue([1,4,3,2])\n",
    "print pq.max()\n",
    "print pq.pop()\n",
    "pq.push(10)\n",
    "print pq.pop()\n",
    "print pq.pop()\n",
    "print pq.pop()\n",
    "print pq.pop()\n",
    "print pq.size()"
   ]
  },
  {
   "cell_type": "markdown",
   "metadata": {},
   "source": [
    "<p></p>\n",
    "<br>\n",
    "<div style=\"direction:rtl;line-height:300%;\"><font face=\"XB Zar\" size=5>\n",
    "<font size=6>\n",
    "مثال\n",
    "</font>\n",
    "<p></p>\n",
    "\n",
    "<hr>\n",
    "<br>\n",
    "پیدا کردن میانه یک لیست به کمک priority queue\n",
    "<br>\n",
    "<br>\n",
    "از یک minHeap و یک maxHeap برای حل این سوال استفاده می کنیم. در هر مرحله یک عضو ازلیست را در minHeap اضافه کرده و هرگاه سایز minHeap از سایز maxHeap دوتا بیش تر شد کوچکترین عضو minHeap را از آن حذف کرده و در maxHeap قرار می دهیم.\n",
    "بعد از هر مرحله نصف عناصر اضافه شده که بزرگترند در minHeap و بقیه در maxHeap قرار دارند. حال اگر تعداد عناصر فرد باشد کوچکترین عنصر minHeap میانه است.\n",
    "الگوریتم گفته شده از مرتبه زمانی $O(nlogn)$ است."
   ]
  },
  {
   "cell_type": "markdown",
   "metadata": {},
   "source": [
    "<p></p>\n",
    "<br>\n",
    "<div style=\"direction:rtl;line-height:300%;\"><font face=\"XB Zar\" size=5>\n",
    "<font size=6>\n",
    "مثال\n",
    "</font>\n",
    "<p></p>\n",
    "\n",
    "<hr>\n",
    "در یک priority queue جمع $k$ عنصر را در چه مرتبه زمانی می توان یافت؟"
   ]
  },
  {
   "cell_type": "markdown",
   "metadata": {},
   "source": [
    "<p></p>\n",
    "<br>\n",
    "<div style=\"direction:rtl;line-height:300%;\"><font face=\"XB Zar\" size=5>\n",
    "<font size=6>\n",
    "کاربردهای هرم\n",
    "</font>\n",
    "<p></p>\n",
    "\n",
    "<hr>\n",
    "<ul>\n",
    "    <li> مرتب‌سازی هرمی: یکی از بهترین شیوه‌های مرتب‌سازی است. </li>\n",
    "    <br>\n",
    "    <li> الگوریتم‌های گراف: این الگوریتم‌ها برای مواردی مانند الگوریتم پریم و الگوریتم دیکسترا استفاده می‌شوند. </li>\n",
    "</ul>"
   ]
  }
 ],
 "metadata": {
  "kernelspec": {
   "display_name": "Python 2",
   "language": "python",
   "name": "python2"
  },
  "language_info": {
   "codemirror_mode": {
    "name": "ipython",
    "version": 2
   },
   "file_extension": ".py",
   "mimetype": "text/x-python",
   "name": "python",
   "nbconvert_exporter": "python",
   "pygments_lexer": "ipython2",
   "version": "2.7.9"
  }
 },
 "nbformat": 4,
 "nbformat_minor": 0
}
