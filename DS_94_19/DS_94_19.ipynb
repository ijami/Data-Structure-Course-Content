{
 "cells": [
  {
   "cell_type": "markdown",
   "metadata": {},
   "source": [
    "<div style=\"direction:rtl;line-height:300%;\"><font face=\"XB Zar\" size=5>\n",
    "<div style=\"direction:rtl;line-height:300%;\"><font face=\"XB Zar\" size=5>\n",
    "<div align=center>\n",
    "<font face=\"IranNastaliq\" size=30>\n",
    "<p></p>\n",
    "به نام خدا\n",
    "</font>\n",
    "<br>\n",
    "<font color=#FF7500>\n",
    "دانشگاه صنعتی شریف - دانشکده مهندسی کامپیوتر\n",
    "</font>\n",
    "<br>\n",
    "<font color=blue>\n",
    "داده‌ساختارها و الگوریتم‌ها\n",
    "</font>\n",
    "</div>\n",
    "علی شریفی زارچی\n",
    "<span style=\"float:left;\">\n",
    "ترم دوم سال تحصیلی ۹۴-۹۵\n",
    "</span>\n",
    "<hr/>\n",
    "<font color=red size=6>\n",
    "<p></p>\n",
    "\n",
    "<div align=center>فصل نوزدهم: Treap </div>\n",
    "</font>\n",
    "<div align=left>\n",
    "امیرکیوان محتشمی، رضا سلطانی\n",
    "</div>\n",
    "<hr>"
   ]
  },
  {
   "cell_type": "markdown",
   "metadata": {},
   "source": [
    "<div style=\"direction:rtl;line-height:300%;\"><font face=\"XB Zar\" size=5>\n",
    "<p></p>\n",
    "<font color=#FF7500 size=6>\n",
    "<p></p>\n",
    "Treap\n",
    "</font>\n",
    "<hr>\n",
    "$n$ \n",
    "عنصر که هر کدام یک دوتایی به شکل $(a_i, b_i)$ هستند در اختیار داریم. فرض کنید تمامی $a_i$ ها و $b_i$ ها متمایز هستند. می‌خواهیم درختی بسازیم و این عناصر را در رئوس آن قرار دهیم به طوری که این درخت بر اساس $a_i$ ها یک BST و براساس $b_i$ ها یک Min Heap است. به چنین درختی Treap می‌گوییم. (چرا؟)\n",
    "\n",
    "</font></div>"
   ]
  },
  {
   "cell_type": "markdown",
   "metadata": {},
   "source": [
    "<img src=\"images/Treap.png\">"
   ]
  },
  {
   "cell_type": "markdown",
   "metadata": {},
   "source": [
    "<div style=\"direction:rtl;line-height:300%;\"><font face=\"XB Zar\" size=5>\n",
    "در ابتدا لازم است ثابت کنیم که به ازای هر $n$ عنصر حداقل یک Treap وجود دارد. برای این‌کار الگوریتمی ارائه می‌دهیم که از روی $n$ عنصر یک Treap بسازد. \n",
    "</font></div>"
   ]
  },
  {
   "cell_type": "markdown",
   "metadata": {},
   "source": [
    "<div style=\"direction:rtl;line-height:300%;\"><font face=\"XB Zar\" size=5>\n",
    "<font color=#FF7500 size=6>\n",
    "ساخت Treap&rlm;(Build)\n",
    "</font><br>\n",
    "در ابتدا عناصر را بر اساس $b_i$ ها به صورت صعودی مرتب کرده و سپس آن‌ها را با استفاده از الگوریتم عادی Insert در یک BST اضافه می‌کنیم. درخت حاصل یک Treap است.(چرا؟)\n",
    "</font></div>"
   ]
  },
  {
   "cell_type": "markdown",
   "metadata": {},
   "source": [
    "<div style=\"direction:rtl;line-height:300%;\"><font face=\"XB Zar\" size=5>\n",
    "<font color=#FF7500 size=6>\n",
    "یکتایی Treap\n",
    "</font><br>\n",
    "می‌خواهیم ثابت کنیم برای $n$ دوتایی تنها یک Treap وجود دارد. برای اثبات کافی است به این نکته توجه کنید که ریشه‌ی درخت در Treap حتما عنصر با کمترین $b_i$ است. سپس تمامی عناصر با $a_i$ کمتر در زیردرخت چپ و سایر عناصر در زیردرخت راست ریشه قرار می‌گیرند. پس به کمک استقرا ثابت می‌شود که تنها یک Treap برای $n$ عنصر وجود دارد.\n",
    "</font></div>"
   ]
  },
  {
   "cell_type": "markdown",
   "metadata": {},
   "source": [
    "<div style=\"direction:rtl;line-height:300%;\"><font face=\"XB Zar\" size=5>\n",
    "<font color=#FF7500 size=6>\n",
    "جستجو در Treap\n",
    "</font><br>\n",
    "برای جستجو در Treap، دقیقا مانند جستجو در یک BST عمل می‌کنیم. با توجه به یکتایی $a_i$ ها برای پیدا کردن $(x, y)$ ابتدا عنصری را پیدا می‌کنیم که $a_i$ آن برابر $x$ باشد و سپس $y$ را با $b_i$ آن مقایسه می‌کنیم. در صورت برابری عنصر را یافته‌ایم و در غیر این صورت این عنصر در درخت وجود ندارد.(چرا؟)\n",
    "</font></div>"
   ]
  },
  {
   "cell_type": "code",
   "execution_count": 34,
   "metadata": {
    "collapsed": true
   },
   "outputs": [],
   "source": [
    "class Node(object):\n",
    "    def __init__(self, bst_key, heap_key):\n",
    "        self.bst_key = bst_key\n",
    "        self.heap_key = heap_key\n",
    "        self.left_child = None\n",
    "        self.right_child = None\n",
    "        self.parent = None\n",
    "\n",
    "root = None # Since treap is empty we set the root to None"
   ]
  },
  {
   "cell_type": "code",
   "execution_count": 15,
   "metadata": {
    "collapsed": false
   },
   "outputs": [],
   "source": [
    "def search(node, bst_key, heap_key):\n",
    "    if node is None:\n",
    "        return None\n",
    "    if bst_key == node.bst_key:\n",
    "        if heap_key == node.heap_key:\n",
    "            return node\n",
    "        else:\n",
    "            # Bst keys and heap keys are unique \n",
    "            #so there is no other node in this tree \n",
    "            # with this bst key.\n",
    "            # Since the node's heap key isn't \n",
    "            # the same as the heap key we are searching for, \n",
    "            # no such node exists in the tree.\n",
    "            return None \n",
    "    elif bst_key < node.bst_key:\n",
    "        return search(node.left_child, bst_key, heap_key)\n",
    "    else:\n",
    "        return search(node.right_child, bst_key, heap_key)"
   ]
  },
  {
   "cell_type": "markdown",
   "metadata": {},
   "source": [
    "<div style=\"direction:rtl;line-height:300%;\"><font face=\"XB Zar\" size=5>\n",
    "<font color=#FF7500 size=6>\n",
    "افزودن عنصر به Treap\n",
    "</font><br>\n",
    "برای اضافه کردن یک عنصر جدید، در ابتدا بدون توجه به خاصیت Min Heap، طبق الگوریتم عادی BST عنصر را در درخت اضافه می‌کنیم. به یاد بیاورید که برای اضافه کردن یک عنصر جدید در Heap ابتدا آن را به صورت برگ اضافه کرده و سپس روی آن عمل Bubble Up انجام می‌دادیم. \n",
    "<br />\n",
    "اتفاقا هر عنصر جدید در BST یک برگ است پس اگر بتوانیم عمل Bubble Up در Heap را بدون بر هم زدن خاصیت BST انجام دهیم، می‌توانیم با کمک آن خاصیت Min Heap را هم برقرار کنیم.\n",
    "<br />\n",
    "برای انجام Bubble Up بدون بر هم زدن خاصیت BST از چرخش‌ها استفاده می‌کنیم.\n",
    "</font></div>"
   ]
  },
  {
   "cell_type": "markdown",
   "metadata": {},
   "source": [
    "<div style=\"direction:rtl;line-height:300%;\"><font face=\"XB Zar\" size=5>\n",
    "<font color=#FF7500 size=6>\n",
    "Bubble Up در Treap\n",
    "</font><br>\n",
    "ثابت کنید برای انجام Bubble Up روی یک عنصر که بچه‌ی چپ پدرش است کافی است پدرش را به سمت راست بچرخانیم. برای Bubble Up کردن یک عنصر که بچه‌ی راست پدرش است چه باید کرد؟\n",
    "</font></div>"
   ]
  },
  {
   "cell_type": "markdown",
   "metadata": {},
   "source": [
    "<img src=\"images/ins1.png\" /> <br />"
   ]
  },
  {
   "cell_type": "markdown",
   "metadata": {},
   "source": [
    "<img src=\"images/ins2.png\" /> <br />"
   ]
  },
  {
   "cell_type": "markdown",
   "metadata": {},
   "source": [
    "<img src=\"images/ins3.png\" /> <br />"
   ]
  },
  {
   "cell_type": "code",
   "execution_count": null,
   "metadata": {
    "collapsed": true
   },
   "outputs": [],
   "source": [
    "def left_rotate(x):\n",
    "    y = x.right_child\n",
    "    # turn y's left subtree into x's right subtree\n",
    "    x.right_child = y.left_child  \n",
    "    if y.left_child != None:\n",
    "        y.left_child.parent = x\n",
    "    y.parent = x.parent  # link x's parent to y\n",
    "\n",
    "    if x.parent == None:\n",
    "        root = y\n",
    "    elif x == x.parent.left_child:\n",
    "        x.parent.left_child = y\n",
    "    else:\n",
    "        x.parent.right_child = y\n",
    "\n",
    "    y.left_child = x  # put x on y's left\n",
    "    x.parent = y\n",
    "\n",
    "def right_rotate(y):\n",
    "    # note that this is symmetric to left rotate\n",
    "    x = y.left_child\n",
    "    y.left_child = x.right_child\n",
    "\n",
    "    if x.right_child != None:\n",
    "        x.right_child.parent = y\n",
    "    x.parent = y.parent\n",
    "\n",
    "    if y.parent == None:\n",
    "        root = x\n",
    "    elif y == y.parent.right_child:\n",
    "        y.parent.right_child = x\n",
    "    else:\n",
    "        y.parent.left_child = x\n",
    "\n",
    "    x.right_child = y\n",
    "    y.parent = x\n",
    "    \n",
    "def insert_in_bst(node, bst_key, heap_key):\n",
    "    if node.bst_key == bst_key:\n",
    "        return None\n",
    "    if bst_key < node.bst_key:\n",
    "        if node.left_child is None:\n",
    "            node.left_child = Node(bst_key, heap_key)\n",
    "            node.left_child.parent = node\n",
    "            return node.left_child\n",
    "        else:\n",
    "            return insert_in_bst(node.left_child, bst_key, \n",
    "                                 heap_key)\n",
    "    else:\n",
    "        if node.right_child is None:\n",
    "            node.right_child = Node(bst_key, heap_key)\n",
    "            node.right_child.parent = node\n",
    "            return node.right_child\n",
    "        else:\n",
    "            return insert_in_bst(node.right_child, bst_key, \n",
    "                                 heap_key)"
   ]
  },
  {
   "cell_type": "code",
   "execution_count": 51,
   "metadata": {
    "collapsed": false
   },
   "outputs": [],
   "source": [
    "def bubble_up(node):\n",
    "    if node.parent is None: \n",
    "        # If the node has no parent \n",
    "        # then it is the root of the treap\n",
    "        # so we can't bubble it up.\n",
    "        return None\n",
    "    if node.parent.left_child == node:\n",
    "        right_rotate(node.parent)\n",
    "    else:\n",
    "        left_rotate(node.parent)"
   ]
  },
  {
   "cell_type": "code",
   "execution_count": null,
   "metadata": {
    "collapsed": true
   },
   "outputs": [],
   "source": [
    "def insert(bst_key, heap_key):\n",
    "    node = insert_in_bst(root, bst_key, heap_key)\n",
    "    while node.parent is not None and \\\n",
    "        node.parent.heap_key > node.heap_key:\n",
    "        bubble_up(node)"
   ]
  },
  {
   "cell_type": "markdown",
   "metadata": {},
   "source": [
    "<div style=\"direction:rtl;line-height:300%;\"><font face=\"XB Zar\" size=5>\n",
    "<font color=#FF7500 size=6>\n",
    "حذف در Treap\n",
    "</font><br>\n",
    "با استفاده از چرخش‌ها راس مورد نظر را با حفظ خاصیت Min Heap می‌چرخانیم تا به یک برگ تبدیل شود. سپس آن را حذف می‌کنیم.\n",
    "</font></div>"
   ]
  },
  {
   "cell_type": "markdown",
   "metadata": {},
   "source": [
    "<img src=\"images/del1.png\" /> <br />"
   ]
  },
  {
   "cell_type": "markdown",
   "metadata": {},
   "source": [
    "<img src=\"images/del2.png\" /> <br />"
   ]
  },
  {
   "cell_type": "markdown",
   "metadata": {},
   "source": [
    "<img src=\"images/del3.png\" /> <br />"
   ]
  },
  {
   "cell_type": "markdown",
   "metadata": {},
   "source": [
    "<img src=\"images/del4.png\" /> <br />"
   ]
  },
  {
   "cell_type": "code",
   "execution_count": 53,
   "metadata": {
    "collapsed": false
   },
   "outputs": [],
   "source": [
    "def remove(node):\n",
    "    while node.left_child is not None or \\\n",
    "        node.right_child is not None:\n",
    "        maximum_node = None\n",
    "        if node.left_child is not None and \\\n",
    "        (maximum_node is None or \\\n",
    "         maximum_node.heap_key > node.left_child.heap_key):\n",
    "            maximum_node = node.left_child\n",
    "        if node.right_child is not None and \\\n",
    "        (maximum_node is None or \\\n",
    "         maximum_node.heap_key > node.right_child.heap_key):\n",
    "            maximum_node = node.right_child\n",
    "        if maximum_node == node.right_child:\n",
    "            left_rotate(node)\n",
    "        else:\n",
    "            right_rotate(node)\n",
    "            \n",
    "    if node.parent is None:\n",
    "        global root\n",
    "        root = None\n",
    "    elif node.parent.left_child == node:\n",
    "        node.parent.left_child = None\n",
    "    else:\n",
    "        node.parent.right_child = None"
   ]
  },
  {
   "cell_type": "markdown",
   "metadata": {},
   "source": [
    "<div style=\"direction:rtl;line-height:300%;\"><font face=\"XB Zar\" size=5>\n",
    "<font color=#FF7500 size=6>\n",
    "استفاده از Treap به عنوان یک Balanced BST\n",
    "</font><br>\n",
    "فرض کنید $b_i$ ها را به صورت تصادفی تولید می‌کنیم. می‌خواهیم ثابت کنیم در این صورت ارتفاع BST حاصل در حالت میانگین از $O(\\lg n)$ خواهد بود. برای اثبات به دو نکته توجه کنید.\n",
    "<br />\n",
    " اول اینکه، در ابتدای کلاس ثابت شد که Treap یکتاست و همچنین گفته شد که اگر عناصر را براساس $b_i$ ها مرتب کرده و به صورت عادی در BST اضافه کنیم(بدون انجام هیچ Bubble up) درخت حاصل یک Treap خواهد بود.\n",
    "<br />\n",
    "حال با توجه به تصادفی بودن $b_i$ ها، احتمال قرار گرفتن یک عنصر در خانه‌ی $i$ ام در حالت مرتب $\\frac{1}{n}$ است. پس در حقیقت این کار، معادل انتخاب یک جایگشت تصادفی از عناصر و سپس اضافه کردن عناصر به یک BST به طور عادی، اما به ترتیب این جایگشت تصادفی است. گفته شد که در این صورت ارتفاع درخت در حالت میانگین از $O(\\lg n)$ است.\n",
    "<br />\n",
    "با توجه به یکتایی Treap درخت حاصل از افزودن عناصر به هر ترتیبی نیز همین درخت خواهد بود. پس بنابراین ارتفاع درخت حاصل از افزودن عناصر به ترتیب ورودی نیز از $O(\\lg n)$ است.\n",
    "</font></div>"
   ]
  },
  {
   "cell_type": "markdown",
   "metadata": {},
   "source": [
    "<div style=\"direction:rtl;line-height:300%;\"><font face=\"XB Zar\" size=5>\n",
    "تابع حذف نیازی به تغییر ندارد اما می‌توان کد مربوط به افزودن و جستجو را به شکل زیر تغییر داد تا تنها به ورودی bst_key نیاز داشته باشد. توجه کنید که در این صورت تابع جستجو دقیقا همان تابع جستجو در BST عادی خواهد بود.\n",
    "</font></div>"
   ]
  },
  {
   "cell_type": "code",
   "execution_count": 54,
   "metadata": {
    "collapsed": true
   },
   "outputs": [],
   "source": [
    "def search(node, bst_key):\n",
    "    if node is None:\n",
    "        return None\n",
    "    if bst_key == node.bst_key:\n",
    "        return node\n",
    "    elif bst_key < node.bst_key:\n",
    "        return search(node.left_child, bst_key, heap_key)\n",
    "    else:\n",
    "        return search(node.right_child, bst_key, heap_key)"
   ]
  },
  {
   "cell_type": "code",
   "execution_count": 58,
   "metadata": {
    "collapsed": true
   },
   "outputs": [],
   "source": [
    "import random\n",
    "\n",
    "def insert(bst_key):\n",
    "    global root\n",
    "    # We choose a random key in range [0, 10000].\n",
    "    heap_key = random.randint(0, 10000)\n",
    "    if root is None:\n",
    "        root = Node(bst_key, heap_key)\n",
    "    else:\n",
    "        node = insert_in_bst(root, bst_key, heap_key)\n",
    "        while node.parent is not None and \\\n",
    "         node.parent.heap_key > node.heap_key:\n",
    "            bubble_up(node)"
   ]
  },
  {
   "cell_type": "code",
   "execution_count": 59,
   "metadata": {
    "collapsed": false
   },
   "outputs": [
    {
     "name": "stdout",
     "output_type": "stream",
     "text": [
      "10\n"
     ]
    }
   ],
   "source": [
    "root = None\n",
    "insert(10)\n",
    "insert(12)\n",
    "g = search(root, 10)\n",
    "remove(g)\n",
    "print(root.bst_key)"
   ]
  }
 ],
 "metadata": {
  "kernelspec": {
   "display_name": "Python 2",
   "language": "python",
   "name": "python2"
  },
  "language_info": {
   "codemirror_mode": {
    "name": "ipython",
    "version": 2
   },
   "file_extension": ".py",
   "mimetype": "text/x-python",
   "name": "python",
   "nbconvert_exporter": "python",
   "pygments_lexer": "ipython2",
   "version": "2.7.9"
  }
 },
 "nbformat": 4,
 "nbformat_minor": 0
}
