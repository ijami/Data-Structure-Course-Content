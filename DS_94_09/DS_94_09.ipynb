{
 "cells": [
  {
   "cell_type": "markdown",
   "metadata": {},
   "source": [
    "<div style=\"direction:rtl;line-height:300%;\"><font face=\"XB Zar\" size=5>\n",
    "<div style=\"direction:rtl;line-height:300%;\"><font face=\"XB Zar\" size=5>\n",
    "<div align=center>\n",
    "<font face=\"IranNastaliq\" size=30>\n",
    "<p></p>\n",
    "به نام خدا\n",
    "</font>\n",
    "<br>\n",
    "<font color=#FF7500>\n",
    "دانشگاه صنعتی شریف - دانشکده مهندسی کامپیوتر\n",
    "</font>\n",
    "<br>\n",
    "<font color=blue>\n",
    "داده‌ساختارها و الگوریتم‌ها\n",
    "</font>\n",
    "</div>\n",
    "علی شریفی زارچی\n",
    "<span style=\"float:left;\">\n",
    "ترم دوم سال تحصیلی ۱۳۹۴-۹۵\n",
    "</span>\n",
    "<hr/>\n",
    "<font color=red size=6>\n",
    "<p></p>\n",
    "\n",
    "<div align=center>\n",
    "فصل نهم: ترای</div>\n",
    "</font>\n",
    "<div align=left>\n",
    "رضا سلطانی و امیرکیوان محتشمی\n",
    "</div>\n",
    "<hr>\n",
    "\n",
    "<p></p>\n",
    "سعی کنید مسأله‌ی زیر را با سریع‌ترین الگوریتم ممکن حل کنید.\n",
    "<p></p>\n",
    "<font color=#FF7500>\n",
    "مساله \n",
    "</font>\n",
    "<br>\n",
    "شهرزاد تعدادی رشته را دوست دارد. فرهاد هر روز در هنگام بازگشت از محل کار، یک رشته خریده و به خانه می‌آورد. اگر رشته‌ی فرهاد یکی از رشته‌های مورد علاقه‌ی شهرزاد نباشد، شهرزاد ناراحت می‌شود. حال میخواهیم هر روز به شهرزاد کمک کنیم تا بفهمد باید ناراحت بشود یا نه!\n",
    "<p></p>"
   ]
  },
  {
   "cell_type": "markdown",
   "metadata": {},
   "source": [
    "<div style=\"direction:rtl;line-height:300%;\"><font face=\"XB Zar\" size=5>\n",
    "<p></p>\n",
    "اگر مجموع طول رشته‌های شهرزاد $l_1$ و مجموع طول رشته‌های فرهاد $l_2$ باشد، طراحی الگوریتمی از $O(l_1l_2)$ راحت است. اما می‌توان این مسئله را با پیچیدگی زمانی بسیار بهتر حل کرد.\n",
    "<p></p>\n"
   ]
  },
  {
   "cell_type": "markdown",
   "metadata": {},
   "source": [
    "<div style=\"direction:rtl;line-height:300%;\"><font face=\"XB Zar\" size=5>\n",
    "<font size=6>\n",
    "<p></p>\n",
    "بریم سر اصل مطلب!\n",
    "<p></p>\n",
    "</font>\n",
    "<p></p>\n",
    "داده‌ساختار درخت پیشوندی یا Trie، درختی ریشه‌دار است  که در ابتدا فقط یه راس دارد که نشان‌گر رشته‌ی تهی است و از آن به عنوان داده‌ساختاری برای ذخیره‌ی رشته‌ها استفاده می‌شود.\n",
    "دو عمل افزودن یک رشته(Insert) و بررسی وجود یک رشته(Find)به شکل زیر در این داده‌ساختار انجام می‌شود.\n",
    "<p></p>\n",
    "\n"
   ]
  },
  {
   "cell_type": "markdown",
   "metadata": {},
   "source": [
    " <div style=\"direction:rtl;line-height:300%;\"><font face=\"XB Zar\" size=5>\n",
    "<font size=6>\n",
    "<p></p>\n",
    "<font color=#FF7500>\n",
    "<div align=center>\n",
    "Insert\n",
    "</div>\n",
    "</font>\n",
    "</font>\n",
    "<p></p>\n",
    "فرض کنید می‌خواهیم رشته‌ی S را به داده‌ساختار اضافه کنیم. از ریشه‌ی درخت شروع می‌کنیم؛ اگر یالی از آن به یکی از فرزندانش وجود داشت که روی آن یال، حرف اول رشته‌ی‌ S نوشته شده بود به آن فرزند می‌رویم. در غیر این صورت یک راس جدید ساخته، آن را با یک یال به ریشه متصل می‌کنیم و روی این یال جدید حرف اول S را مینویسیم و سپس به راس جدید می‌رویم. در هر دو حالت، حرف اول S را در نظر نگرفته و همین عملیات را انجام می‌دهیم انگار که بخواهیم رشته‌ی شامل حروف دوم تا آخر S را در یک Trie به ریشه‌ی راسی که به آن رفته‌ایم اضافه کنیم. این‌کار را تا زمانی که S خالی شود ادامه می‌دهیم. در صورتی که S خالی باشد، صرفا راس فعلی را علامت می‌زنیم. از این علامت در قسمت Find استفاده خواهیم کرد. \n",
    "<p></p>\n",
    "فرض کنید بخواهیم رشته‌های b،‌ ab، aa، aaba و aab را به‌ترتیب در داده‌ساختار اضافه کنیم. شکل زیر مراحل این‌کار را نشان می‌دهد. رأس فعلی با رنگ سبز و رئوس علامت زده شده با رنگ آبی نشان داده شده‌اند.\n",
    "<p></p>"
   ]
  },
  {
   "cell_type": "markdown",
   "metadata": {},
   "source": [
    "<img src=\"images/DS_94_06_insert.gif\" />"
   ]
  },
  {
   "cell_type": "code",
   "execution_count": 28,
   "metadata": {
    "collapsed": true
   },
   "outputs": [],
   "source": [
    "class Node:\n",
    "    def __init__(self):\n",
    "        self.mark = False\n",
    "        self.edges = [] # A list of Edges exiting from this node\n",
    "        \n",
    "class Edge:\n",
    "    def __init__(self, start, end, label):\n",
    "        self.start = start\n",
    "        self.end = end\n",
    "        self.label = label"
   ]
  },
  {
   "cell_type": "code",
   "execution_count": 29,
   "metadata": {
    "collapsed": true
   },
   "outputs": [],
   "source": [
    "def trie_insert(node, string, idx = 0): \n",
    "    \"\"\"\n",
    "        \"idx\" is the index of current character in \"string\".\n",
    "        Actually removing the first character of string as explained can be done in O(len(string)).\n",
    "        Instead we use idx to simulate the removal in O(1).\n",
    "    \"\"\"\n",
    "\n",
    "    if idx == len(string): \n",
    "        node.mark = True # marking the node\n",
    "        return \n",
    "    # We have to know if there is already an edge labeled with string[idx]. \"Found\" becomes true if we do\n",
    "    found = False\n",
    "    for edge in node.edges:\n",
    "        if edge.label == string[idx]:\n",
    "            found = True\n",
    "            trie_insert(edge.end, string, idx + 1) # increasing idx to proceed to the next character\n",
    "    if not found:\n",
    "        new_node = Node()\n",
    "        node.edges.append(Edge(node, new_node, string[idx]))\n",
    "        trie_insert(new_node, string, idx + 1) # increasing idx to proceed to the next character"
   ]
  },
  {
   "cell_type": "markdown",
   "metadata": {},
   "source": [
    "<div style=\"direction:rtl;line-height:300%;\"><font face=\"XB Zar\" size=5>\n",
    "<font size=6>\n",
    "<p></p>\n",
    "<font color=#FF7500>\n",
    "<div align=center>\n",
    "Find\n",
    "</div>\n",
    "</font>\n",
    "</font>\n",
    "<p></p>\n",
    "مانند عملیات Insert عمل می‌کنیم با این تفاوت که در صورتی که یال مورد نظر پیدا نشد، به جای ساختن راس جدید عدم وجود رشته در داده‌ساختار را گزارش می‌دهیم. در صورتی که به راسی برسیم و S تهی شود، اگر آن راس علامت خورده بود، یعنی رشته‌ی ما در داده‌ساختار وجود دارد(چرا؟) و در غیر این صورت، رشته در داده‌ساختار وجود ندارد.\n",
    "<p></p>\n",
    "شکل زیر مراحل پیدا کردن برخی از رشته‌ها را در داده‌ساختاری که در قسمت مثال Insert ساختیم نشان می‌دهد.\n",
    "<p></p>"
   ]
  },
  {
   "cell_type": "markdown",
   "metadata": {},
   "source": [
    "<img src=\"DS_94_06_find.gif\" />"
   ]
  },
  {
   "cell_type": "code",
   "execution_count": 23,
   "metadata": {
    "collapsed": true
   },
   "outputs": [],
   "source": [
    "def trie_find(node, string, idx = 0):\n",
    "        if idx == len(string):\n",
    "            return node.mark\n",
    "        found = False\n",
    "        for edge in node.edges:\n",
    "            if edge.label == string[idx]:\n",
    "                found = True\n",
    "                return trie_find(edge.end, string, idx + 1)\n",
    "        if not found:\n",
    "            return False"
   ]
  },
  {
   "cell_type": "code",
   "execution_count": 24,
   "metadata": {
    "collapsed": false
   },
   "outputs": [
    {
     "name": "stdout",
     "output_type": "stream",
     "text": [
      "True\n",
      "False\n",
      "False\n",
      "False\n",
      "True\n",
      "True\n",
      "True\n",
      "False\n"
     ]
    }
   ],
   "source": [
    "class Trie:\n",
    "    \n",
    "    def __init__(self):\n",
    "        self.root = Node()\n",
    "        \n",
    "    def insert(self, string):\n",
    "        trie_insert(self.root, string, 0)\n",
    "    \n",
    "    def find(self, string):\n",
    "        return trie_find(self.root, string, 0)\n",
    "    \n",
    "trie = Trie()\n",
    "shahrzad_strings = ['b', 'ab', 'aa', 'aaba', 'aab']\n",
    "farhad_strings = ['aaba', 'aac', 'c', 'a', 'aab', 'ab', 'b', 'ba']\n",
    "\n",
    "for string in shahrzad_strings:\n",
    "    trie.insert(string)\n",
    "    \n",
    "for string in farhad_strings:\n",
    "    print trie.find(string)"
   ]
  },
  {
   "cell_type": "markdown",
   "metadata": {},
   "source": [
    "<div style=\"direction:rtl;line-height:300%;\"><font face=\"XB Zar\" size=5>\n",
    "<font size=6>\n",
    "<p></p>\n",
    "<font color=#FF7500>\n",
    "<div align=center>\n",
    "چند سوال\n",
    "</div>\n",
    "</font>\n",
    "</font>\n",
    "<p></p>\n",
    "۱- پیچیدگی زمانی هر یک از عملیات‌های Insert و Find چقدر است؟ \n",
    "<br />\n",
    "۲- تعداد یال‌ها و تعداد رئوس Trie چقدر است؟ پیچیدگی حافظه‌ی مصرف شده چقدر است؟\n",
    "<br />\n",
    "۳- فرض کنید بدانیم تمامی رشته‌ها از حروف کوچک الفبای انگلیسی تشکیل شده‌اند. می‌توانیم برای ذخیره‌سازی یال‌ها در هر راس $v$ از یک لیست به طول $26$ استفاده کنیم. اگر در $i$ امین خانه از این لیست شماره‌ی راس $x$ نوشته شده باشد یالی از $v$ به $x$ وجود دارد که روی آن حرف $i$ م الفبای انگلیسی نوشته شده است. در این صورت چه تفاوتی در زمان اجرا و حافظه‌ی داده‌ساختار ایجاد می‌شود؟"
   ]
  },
  {
   "cell_type": "markdown",
   "metadata": {},
   "source": [
    "<div style=\"direction:rtl;line-height:300%;\"><font face=\"XB Zar\" size=5>\n",
    "<font size=6>\n",
    "<p></p>\n",
    "<font color=#FF7500>\n",
    "<div align=center>\n",
    "مثالی دیگر\n",
    "</div>\n",
    "</font>\n",
    "</font>\n",
    "<p></p>\n",
    "شهرزاد تعدادی رشته را دوست دارد. فرهاد هر روز در هنگام بازگشت از محل کار، یک رشته خریده و به خانه می‌آورد. اگر رشته‌ی فرهاد پیشوند یکی از رشته‌های مورد علاقه‌ی شهرزاد نباشد، شهرزاد ناراحت می‌شود. حال میخواهیم هر روز به شهرزاد کمک کنیم تا بفهمد باید ناراحت بشود یا نه!"
   ]
  },
  {
   "cell_type": "markdown",
   "metadata": {},
   "source": [
    "<div style=\"direction:rtl;line-height:300%;\"><font face=\"XB Zar\" size=5>\n",
    "<font size=6>\n",
    "<p></p>\n",
    "<font color=#FF7500>\n",
    "<div align=center>\n",
    "پاسخی دیگر(!)\n",
    "</div>\n",
    "</font>\n",
    "</font>\n",
    "<p></p>\n",
    "در حل بسیاری از مسائل که با استفاده از داده‌ساختار Trie حل می‌شوند لازم است مقداری عملیات‌ها را تغییر دهیم تا با خواسته‌ی ما سازگار شوند. برای مثال با تغییری اندک در راه‌حل مسأله‌ی قبل(که پیاده‌سازی استاندارد این داده‌ساختار بود) می‌توانیم این مسأله را حل کنیم.\n",
    "<br>\n",
    "در تابع insert، فقط زمانی راس را علامت می‌زدیم که رشته تهی باشد و به عبارت دیگر به آخرین راس رسیده باشیم. برای حل این مساله تنها کافی است تمامی رئوس مسیر را علامت بزنیم.\n",
    "<p></p>\n"
   ]
  },
  {
   "cell_type": "code",
   "execution_count": 27,
   "metadata": {
    "collapsed": false
   },
   "outputs": [
    {
     "name": "stdout",
     "output_type": "stream",
     "text": [
      "True\n",
      "False\n",
      "False\n",
      "True\n",
      "True\n",
      "True\n",
      "True\n",
      "False\n"
     ]
    }
   ],
   "source": [
    "def trie_insert_mark_all(node, string, idx):      \n",
    "    node.mark = True\n",
    "    if idx == len(string): \n",
    "        return \n",
    "    found = False\n",
    "    for edge in node.edges:\n",
    "        if edge.label == string[idx]:\n",
    "            found = True\n",
    "            trie_insert_mark_all(edge.end, string, idx + 1) # increasing idx to proceed to the next character\n",
    "    if not found:\n",
    "        new_node = Node()\n",
    "        node.edges.append(Edge(node, new_node, string[idx]))\n",
    "        trie_insert_mark_all(new_node, string, idx + 1) # increasing idx to proceed to the next character\n",
    "\n",
    "Trie.insert = lambda self, string: trie_insert_mark_all(self.root, string, 0) # Replacing the insert method\n",
    "\n",
    "trie = Trie()\n",
    "shahrzad_strings = ['b', 'ab', 'aa', 'aaba', 'aab']\n",
    "farhad_strings = ['aaba', 'aac', 'c', 'a', 'aab', 'ab', 'b', 'ba']\n",
    "\n",
    "for string in shahrzad_strings:\n",
    "    trie.insert(string)\n",
    "    \n",
    "for string in farhad_strings:\n",
    "    print trie.find(string)"
   ]
  }
 ],
 "metadata": {
  "kernelspec": {
   "display_name": "Python 2",
   "language": "python",
   "name": "python2"
  },
  "language_info": {
   "codemirror_mode": {
    "name": "ipython",
    "version": 2
   },
   "file_extension": ".py",
   "mimetype": "text/x-python",
   "name": "python",
   "nbconvert_exporter": "python",
   "pygments_lexer": "ipython2",
   "version": "2.7.9"
  }
 },
 "nbformat": 4,
 "nbformat_minor": 0
}
