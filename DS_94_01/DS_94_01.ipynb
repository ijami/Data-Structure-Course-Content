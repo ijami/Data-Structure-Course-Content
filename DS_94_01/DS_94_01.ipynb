{
 "cells": [
  {
   "cell_type": "markdown",
   "metadata": {
    "slideshow": {
     "slide_type": "slide"
    }
   },
   "source": [
    "<div style=\"direction:rtl;line-height:300%;\"><font face=\"XB Zar\" size=5>\n",
    "<div align=center>\n",
    "<font face=\"IranNastaliq\" size=30>\n",
    "<p></p><p></p>\n",
    "به نام خدا\n",
    "<p></p>\n",
    "</font>\n",
    "<font color=#FF7500>\n",
    "دانشگاه صنعتی شریف - دانشکده مهندسی کامپیوتر\n",
    "</font>\n",
    "<p></p>\n",
    "<font color=blue>\n",
    "داده‌ساختارها و الگوریتم‌ها\n",
    "</font>\n",
    "</div>\n",
    "<hr/>\n",
    "<font color=#FF7500>\n",
    "تیم تدریس:\n",
    "</font>\n",
    "امیرمحسن آهنچی،\n",
    "حسین بیگی، \n",
    "آرش پوردامغانی،\n",
    "محمد‌مهدی جهان‌آرا،\n",
    "پیمان جبارزاده گنجه،<br/>\n",
    "محمدجواد حاجی علیخانی،\n",
    "پارسوآ خورسند رحیم زاده،\n",
    "ياشار دبيران،\n",
    "ایلیاد رمضانی،\n",
    "محمد روغنی،\n",
    "رضا سلطانی،<br/>\n",
    "سروش عبادیان،\n",
    "فرزاد عبدالحسینی،\n",
    "آرزو فاطمی،\n",
    "امیر کفشدار گوهرشادی،\n",
    "پویا مصدق،\n",
    "امیرکیوان محتشمی،<br/>\n",
    "علی شریفی زارچی\n",
    "\n",
    "<p></p>\n",
    "<font color=#FF7500>\n",
    "گروه گوگلی :\n",
    "</font> googlegroups.com/group/ds-94 \n",
    "<p></p>\n",
    "<font color=#FF7500>\n",
    "کتاب :\n",
    "</font>\n",
    "<ul>\n",
    "<li>دکتر محمد قدسی، داده‌ساختارها و مبانی الگوریتم‌ها\n",
    "<li>Cormen et al., Introduction to algorithms\n",
    "<li>Udi Manber, Introduction to algorithms, a creative approach\n",
    "</ul>\n",
    "<p></p>\n",
    "<font color=#FF7500>\n",
    "فعالیت‌های درس :\n",
    "</font>\n",
    "<ul>\n",
    "<li>تمرین‌های نظری هفتگی\n",
    "<li>پنج سری تمرین عملی (۴ نمره)\n",
    "<li>کوییز (۳ نمره)\n",
    "<li>دو آزمون میان‌ترم نظری (۲+۳ نمره، آزمون بهتر: ۳)\n",
    "<li>دو آزمون میان‌ترم عملی (آزمون بهتر: ۴)\n",
    "<li>پروژه‌ی ویکی‌پدیا یا ژوپیتر (۱ نمره)\n",
    "<li>آزمون پایان‌ترم (۵نمره)\n",
    "</ul>\n",
    "<p></p>\n",
    "<font color=#FF7500>\n",
    "این درس را بگیرید اگر :\n",
    "</font>\n",
    "<ul>\n",
    "<li> علاقه دارید داده‌ساختارها را در عمل یاد بگیرید\n",
    "<li> می‌خواهید لذت یادگیری Python را تجربه کنید\n",
    "</ul>\n",
    "<p></p>\n",
    "<font color=#FF7500>\n",
    "این درس را حذف کنید اگر :\n",
    "</font>\n",
    "<ul>\n",
    "<li> می‌خواهید تمرین یا امتحان راکُپ بزنید/بدهید\n",
    "<li> به نمودار یا نمره‌گرفتن از طریق مذاکره امیدوار هستید\n",
    "</ul>\n",
    "<p></p>\n",
    "<font color=blue>\n",
    "حق کپی: Creative Commons BY NC. استفاده یا انتشار این مطالب برای مقاصد غیر تجاری با ذکر منبع مجاز است.\n",
    "</font>\n",
    "</font>\n",
    "</div>"
   ]
  },
  {
   "cell_type": "markdown",
   "metadata": {},
   "source": [
    "<div style=\"direction:rtl;line-height:300%;\"><font face=\"XB Zar\" size=5>\n",
    "<font color=red size=6>\n",
    "<p></p>\n",
    "<div align=center>فصل نخست:‌آشنایی با Python </div>\n",
    "</font>\n",
    "<hr>\n",
    "در ابتدا ساده‌ترین روش‌های مرتب‌سازی را یاد می‌گیریم؛ اما قبل از آن اجازه دهید قدری با زبان Python آشنا شویم.\n",
    "\n",
    "در Python تعریف نوع متغیر لازم نیست. هر متغیر می‌تواند در طول اجرای برنامه در هر زمان نوع خود را عوض کند، مثلا از عدد به رشته‌ی کاراکتری یا لیست تبدیل شود:\n",
    "</font></div>"
   ]
  },
  {
   "cell_type": "code",
   "execution_count": 42,
   "metadata": {
    "collapsed": false
   },
   "outputs": [
    {
     "name": "stdout",
     "output_type": "stream",
     "text": [
      "Hello world!\n",
      "5\n",
      "[3, 7, 2, 1, 4]\n"
     ]
    }
   ],
   "source": [
    "x = \"Hello world!\"\n",
    "print(x)\n",
    "x = 5\n",
    "print(x)\n",
    "x = [3, 7, 2, 1, 4]\n",
    "print(x)"
   ]
  },
  {
   "cell_type": "markdown",
   "metadata": {},
   "source": [
    "<div style=\"direction:rtl;line-height:300%;\"><font face=\"XB Zar\" size=5>\n",
    "انتساب مقادیر به چند متغیر می‌تواند در یک دستور انجام شود:\n",
    "</font></div>"
   ]
  },
  {
   "cell_type": "code",
   "execution_count": 43,
   "metadata": {
    "collapsed": false,
    "scrolled": false
   },
   "outputs": [
    {
     "name": "stdout",
     "output_type": "stream",
     "text": [
      "(5, 'Hello', [4, 3, 7, 12, 18, -1, 6])\n"
     ]
    }
   ],
   "source": [
    "x, y, z = 5, \"Hello\", [4, 3, 7, 12, 18, -1, 6]\n",
    "print(x, y, z)"
   ]
  },
  {
   "cell_type": "markdown",
   "metadata": {},
   "source": [
    "<div style=\"direction:rtl;line-height:300%;\"><font face=\"XB Zar\" size=5>\n",
    "اندیس لیست‌ها از صفر شروع می‌شود. می‌توان به راحتی به یک قسمت از لیست دسترسی داشت. \n",
    "برای انتخاب $k$‌امین عنصر از انتهای لیست از اندیس $-k$ استفاده می‌کنیم:\n",
    "</font></div>"
   ]
  },
  {
   "cell_type": "code",
   "execution_count": 44,
   "metadata": {
    "collapsed": false
   },
   "outputs": [
    {
     "name": "stdout",
     "output_type": "stream",
     "text": [
      "[4, 3, 7, 12, 18]\n",
      "[4, 3, 7, 12, 18]\n",
      "[-1, 6]\n",
      "[]\n",
      "18\n",
      "[4, 3, 7, 12]\n",
      "[18, -1, 6]\n",
      "[3, 7, 12]\n"
     ]
    }
   ],
   "source": [
    "print(z[0:5])\n",
    "print(z[:5])\n",
    "print(z[5:])\n",
    "print(z[7:9])\n",
    "print(z[-3])\n",
    "print(z[:-3])\n",
    "print(z[-3:])\n",
    "print(z[1:-3])"
   ]
  },
  {
   "cell_type": "markdown",
   "metadata": {
    "collapsed": true
   },
   "source": [
    "<div style=\"direction:rtl;line-height:300%;\"><font face=\"XB Zar\" size=5>\n",
    "یک لیست می‌تواند مقادیری با انواع مختلف داشته باشد. می‌توان طول آن را به سادگی محاسبه کرد:\n",
    "</font></div>"
   ]
  },
  {
   "cell_type": "code",
   "execution_count": 45,
   "metadata": {
    "collapsed": false
   },
   "outputs": [
    {
     "name": "stdout",
     "output_type": "stream",
     "text": [
      "[4, 3, 7]\n",
      "11\n",
      "5\n"
     ]
    }
   ],
   "source": [
    "z = [5, \"Data\", 'a', [4, 3, 7], 6]\n",
    "print(z[3])\n",
    "print(z[0] + z[4])\n",
    "print(len(z))"
   ]
  },
  {
   "cell_type": "markdown",
   "metadata": {},
   "source": [
    "<div style=\"direction:rtl;line-height:300%;\"><font face=\"XB Zar\" size=5>\n",
    "عبارات ریاضی تقریبا مشابه سایر زبان‌های برنامه‌نویسی هستند:\n",
    "</font></div>"
   ]
  },
  {
   "cell_type": "code",
   "execution_count": 46,
   "metadata": {
    "collapsed": false
   },
   "outputs": [
    {
     "name": "stdout",
     "output_type": "stream",
     "text": [
      "7 -1 12 0 3 0 81\n",
      "7.0 -1.0 12.0 0.75 3.0 0.0 81.0\n",
      "(5, 5)\n"
     ]
    }
   ],
   "source": [
    "x, y = 3, 4\n",
    "print(x + y),\n",
    "print(x - y),\n",
    "print(x * y),\n",
    "print(x / y), # division\n",
    "print(x % y), # modulo\n",
    "print(x // y), # floor division\n",
    "print(x ** y) # exponent\n",
    "\n",
    "x, y = 3.0, 4.0\n",
    "print(x + y),\n",
    "print(x - y),\n",
    "print(x * y),\n",
    "print(x / y), # division\n",
    "print(x % y), # modulo\n",
    "print(x // y), # floor division\n",
    "print(x ** y) # exponent\n",
    "\n",
    "print(abs(5), abs(-5))"
   ]
  },
  {
   "cell_type": "markdown",
   "metadata": {},
   "source": [
    "<div style=\"direction:rtl;line-height:300%;\"><font face=\"XB Zar\" size=5>\n",
    "می‌توان از سایر کتاب‌خانه‌ها هم استفاده کرد:\n",
    "</font></div>"
   ]
  },
  {
   "cell_type": "code",
   "execution_count": 47,
   "metadata": {
    "collapsed": false,
    "scrolled": true
   },
   "outputs": [
    {
     "name": "stdout",
     "output_type": "stream",
     "text": [
      "2.0\n"
     ]
    }
   ],
   "source": [
    "import math\n",
    "print(math.sqrt(y))"
   ]
  },
  {
   "cell_type": "markdown",
   "metadata": {},
   "source": [
    "<div style=\"direction:rtl;line-height:300%;\"><font face=\"XB Zar\" size=5>\n",
    "هنگام کار با اعداد حقیقی باید مراقب محدودیت محاسبات نقطه‌ی شناور (floating point arithmatic)بود:\n",
    "</font></div>"
   ]
  },
  {
   "cell_type": "code",
   "execution_count": 48,
   "metadata": {
    "collapsed": false
   },
   "outputs": [
    {
     "name": "stdout",
     "output_type": "stream",
     "text": [
      "3.0\n",
      "2.0\n"
     ]
    }
   ],
   "source": [
    "print(0.6 / 0.2)\n",
    "print(0.6 // 0.2)"
   ]
  },
  {
   "cell_type": "markdown",
   "metadata": {},
   "source": [
    "<div style=\"direction:rtl;line-height:300%;\"><font face=\"XB Zar\" size=5>\n",
    "انجام دستور‌های شرطی و حلقه نیز به سادگی امکان پذیر است. نیازی به استفاده از () برای عبارت شرطی یا {} برای شروع و پایان یک زیربرنامه نیست. ساختار برنامه به وسیله‌ی فرورفتگی (Indent) مشخص می‌شود:\n",
    "</font></div>"
   ]
  },
  {
   "cell_type": "code",
   "execution_count": 49,
   "metadata": {
    "collapsed": false
   },
   "outputs": [
    {
     "name": "stdout",
     "output_type": "stream",
     "text": [
      "x < 7\n",
      "(1, '<= 7')\n",
      "(3, '<= 7')\n",
      "(5, '<= 7')\n",
      "(7, '<= 7')\n",
      "(9, '> 7')\n"
     ]
    }
   ],
   "source": [
    "x = 5\n",
    "if x < 7:\n",
    "    print(\"x < 7\")\n",
    "elif x == 7:\n",
    "    print(\"x == 7\")\n",
    "else:\n",
    "    print(\"x > 7\")\n",
    "    \n",
    "x = [1, 3, 5, 7, 9]\n",
    "for i in range(5):\n",
    "    if x[i] <= 7:\n",
    "        print(x[i], \"<= 7\")\n",
    "    else:\n",
    "        print(x[i], \"> 7\")"
   ]
  },
  {
   "cell_type": "markdown",
   "metadata": {},
   "source": [
    "<div style=\"direction:rtl;line-height:300%;\"><font face=\"XB Zar\" size=5>\n",
    "در قطعه کد بالا تابع range برای تولید یک دنباله از اعداد به کار می‌رود:\n",
    "</font></div>"
   ]
  },
  {
   "cell_type": "code",
   "execution_count": 50,
   "metadata": {
    "collapsed": false
   },
   "outputs": [
    {
     "name": "stdout",
     "output_type": "stream",
     "text": [
      "[0, 1, 2, 3, 4]\n",
      "[5, 6, 7, 8, 9]\n",
      "[5, 7, 9]\n",
      "[10, 9, 8, 7, 6, 5, 4, 3, 2, 1]\n"
     ]
    }
   ],
   "source": [
    "print(range(5))\n",
    "print(range(5, 10))\n",
    "print(range(5, 10, 2))\n",
    "print(range(10, 0, -1))"
   ]
  },
  {
   "cell_type": "markdown",
   "metadata": {},
   "source": [
    "<div style=\"direction:rtl;line-height:300%;\"><font face=\"XB Zar\" size=5>\n",
    "<font color=red size=6>\n",
    "<p></p>\n",
    "<div align=center>فصل دوم: روش‌های ساده‌ی مرتب‌سازی </div>\n",
    "</font>\n",
    "<div align=left>\n",
    "امیر کفشدار گوهرشادی، امیرمحسن آهنچی\n",
    "</div>\n",
    "<hr>\n",
    "<font color=#FF7500>\n",
    "مقدمه\n",
    "</font><p></p>\n",
    "مرتب‌سازی یکی از ساده‌ترین کارهایی است که به صورت روزمره انجام می‌دهیم. این کار به حدی برایمان ساده و طبیعی شده است که شاید به آن چندان فکر نکنیم ولی با کمی دقت به سادگی متوجه می‌شویم که برای مرتب‌کردن اشیای مختلف از روش‌های گوناگونی استفاده می‌کنیم.\n",
    "<p></p>\n",
    "برای نمونه فرض کنید که یک دسته اسکناس به شما داده شده است که در آن اسکناس‌های هزار، دو هزار و پنج‌هزار تومانی با هم مخلوط هستند. شاید اولین چیزی که به آن فکر کنید مرتب کردن این اسکناس‌ها باشد. چون مرتب‌بودن آن‌ها می‌تواند باعث  ساده‌تر شدن استفاده از آن‌ها شود. مثلا اگر بخواهید یک مبلغ خاص را بپردازید شاید برایتان ساده‌تر باشد که اسکناس‌ها را از یک دسته‌ی مرتب بیرون بکشید. حال سؤال این است که «چه‌طور» اسکناس‌ها را مرتب می‌کنید؟\n",
    "<p></p>\n",
    "اکثر مردم (این اکثریت شامل دانشجوها که سر و کارشان با پول نیست نمی‌شود) از یک روش ساده برای این کار استفاده می‌کنند. اسکناس‌ها را در سه دسته روی میز می‌گذارند. برای هر نوع اسکناس جایی تعیین می‌کنند و بعد هر اسکناس را در جایش و روی اسکناس‌های هم‌نوعش می‌گذارند. وقتی این کار تمام شد دسته‌ها را به ترتیب روی هم می‌چینند.\n",
    "<p></p>\n",
    "این روش ساده اساس اولین الگوریتم مرتب‌سازی است که به آن می‌پردازیم یعنی مرتب‌سازی شمارشی. قبل از هر چیز بیایید برای ساده‌تر شدن موضوع از این جا تا پایان درس یک قرارداد بگذاریم. هر وقت که با یک مسأله‌ی مرتب‌سازی مواجه می‌شویم آن را به صورت مرتب‌سازی یک آرایه از اعداد صحیح نامنفی مدل می‌کنیم و از این به بعد قرارداد می‌کنیم:\n",
    "<p></p>\n",
    "$A$ = آرایه‌ی ورودی که باید آن را مرتب کنیم\n",
    "<p></p>\n",
    "$n$ = (طول $A$) تعداد عناصر آرایه\n",
    "<p></p>\n",
    "$m$ = بزرگ‌ترین عنصر موجود در آرایه\n",
    "<p></p>\n",
    "<font color=#FF7500>\n",
    "مرتب‌سازی شمارشی (Counting Sort)\n",
    "</font>\n",
    "<p></p>\n",
    "با این توضیح به بررسی دقیق‌تر اولین الگوریتم که مرتب‌سازی شمارشی است می‌پردازیم. در مرتب‌سازی شمارشی به ازای هر عدد ممکن در آرایه مانند \n",
    "$i$\n",
    "تعداد تکرارهایش در آرایه را با \n",
    "$Count[i]$\n",
    "نشان می‌دهیم. \n",
    "$Count$\n",
    "خود یک آرایه است که در ابتدا همه‌ی مقادیر آن صفر هستند. برای به دست آوردن مقادیر نهایی $Count$ کافیست یک دور آرایه‌ی اصلیمان را از ابتدا تا انتها پیمایش کرده و تعداد تکرارها را بشماریم.\n",
    "</font></div>\n"
   ]
  },
  {
   "cell_type": "code",
   "execution_count": 51,
   "metadata": {
    "collapsed": false
   },
   "outputs": [
    {
     "name": "stdout",
     "output_type": "stream",
     "text": [
      "[0, 3, 4, 2, 1, 1]\n"
     ]
    }
   ],
   "source": [
    "A = [1, 2, 2, 2, 1, 3, 3, 1, 2, 4, 5]\n",
    "m = max(A)\n",
    "Count = [0] * (m + 1) # The count of each item in A\n",
    "for x in A:\n",
    "    Count[x] += 1\n",
    "print(Count)"
   ]
  },
  {
   "cell_type": "markdown",
   "metadata": {},
   "source": [
    "<div style=\"direction:rtl;line-height:300%;\"><font face=\"XB Zar\" size=5>\n",
    "حال که تعداد تکرارهای هر عدد را داریم، کافی است از کوچک‌ترین عدد ممکن (در این‌جا صفر) شروع کرده و از هر عدد به تعداد مورد نیاز چاپ کنیم.\n",
    "<p></p>\n",
    "دقت کنید این الگوریتم فقط در مواردی کار می‌کند که اعداد ورودی صحیح نامنفی باشند و حداکثر آن‌ها ($m$) خیلی زیاد نباشد، در غیر این صورت نیاز به گرفتن یک حافظه‌ی خیلی بزرگ برای $Count$ خواهیم داشت.</font></div>"
   ]
  },
  {
   "cell_type": "code",
   "execution_count": 52,
   "metadata": {
    "collapsed": false,
    "scrolled": false
   },
   "outputs": [
    {
     "name": "stdout",
     "output_type": "stream",
     "text": [
      "[1, 1, 1, 2, 2, 2, 2, 3, 3, 4, 5]\n"
     ]
    }
   ],
   "source": [
    "A = []\n",
    "for i in range(m+1):\n",
    "    A += [i] * Count[i]\n",
    "print(A)"
   ]
  },
  {
   "cell_type": "markdown",
   "metadata": {},
   "source": [
    "<div style=\"direction:rtl;line-height:300%;\"><font face=\"XB Zar\" size=5>\n",
    "<p></p>\n",
    "<font color=#FF7500>\n",
    "مرتب‌سازی درجی (Insertion Sort)\n",
    "</font>\n",
    "<p></p>\n",
    "فرض کنید که اسکناس‌هایتان را (که برای سادگی مقدار آن‌ها را با ۱ و ۲ و ۳ نشان دادیم) و تعدادشان هم خیلی زیاد است مرتب کرده‌اید. مثلا فرض کنید که به آرایه‌ی مرتب زیر رسیده‌اید: (فرض کنید تعداد عنصرها زیاد است!)</font></div>"
   ]
  },
  {
   "cell_type": "code",
   "execution_count": 53,
   "metadata": {
    "collapsed": false
   },
   "outputs": [],
   "source": [
    "A = [1, 1, 3, 4, 5, 6]"
   ]
  },
  {
   "cell_type": "markdown",
   "metadata": {
    "collapsed": true
   },
   "source": [
    "<div style=\"direction:rtl;line-height:300%;\"><font face=\"XB Zar\" size=5>\n",
    "حال فرض کنید که ناگهان بعد از مرتب‌کردن همه‌ی این اسکناس‌ها، متوجه می‌شوید که یک اسکناس دو تومانی ته جیبتان جا مانده است و می‌خواهید آن را به آرایه‌ی مرتبتان اضافه کنید. یک راهش این است که این اسکناس را به آخر آرایه اضافه کرده و دوباره همان الگوریتم مرتب‌سازی شمارشی را اجرا کنید ولی این راهی نیست که اکثر مردم می‌روند. راهی که بسیار طبیعی‌تر است آن است که جایی از دسته‌ی اسکناس‌هایمان را پیدا کنیم که می‌توانیم این اسکناس جدید را در آن اضافه کنیم ، و بعد با کنار زدن بخشی از اسکناس‌ها برایش جا باز کنیم و آن را در آن وسط قرار دهیم. ما این الگوریتم را «مرتب‌سازی درجی» می‌نامیم و به این صورت پیاده‌سازی می‌کنیم:</font></div>"
   ]
  },
  {
   "cell_type": "code",
   "execution_count": 54,
   "metadata": {
    "collapsed": false
   },
   "outputs": [
    {
     "name": "stdout",
     "output_type": "stream",
     "text": [
      "[2, 5, -3, 4, 6, -7, 1, 9, 12, 5, -6]\n",
      "[-3, 2, 5, 4, 6, -7, 1, 9, 12, 5, -6]\n",
      "[-3, 2, 4, 5, 6, -7, 1, 9, 12, 5, -6]\n",
      "[-3, 2, 4, 5, 6, -7, 1, 9, 12, 5, -6]\n",
      "[-7, -3, 2, 4, 5, 6, 1, 9, 12, 5, -6]\n",
      "[-7, -3, 1, 2, 4, 5, 6, 9, 12, 5, -6]\n",
      "[-7, -3, 1, 2, 4, 5, 6, 9, 12, 5, -6]\n",
      "[-7, -3, 1, 2, 4, 5, 6, 9, 12, 5, -6]\n",
      "[-7, -3, 1, 2, 4, 5, 5, 6, 9, 12, -6]\n",
      "[-7, -6, -3, 1, 2, 4, 5, 5, 6, 9, 12]\n",
      "[-7, -6, -3, 1, 2, 4, 5, 5, 6, 9, 12]\n"
     ]
    }
   ],
   "source": [
    "A = [5, 2, -3, 4, 6, -7, 1, 9, 12, 5, -6]\n",
    "for k in range(1, len(A)):       # Insert all elements 2 to n\n",
    "    item = A[k]             # The k'th element to be inserted\n",
    "    i = k             # i will hold the position of insertion\n",
    "    while i > 0 and A[i-1] > item:\n",
    "        A[i] = A[i-1]                        # Shift to right\n",
    "        i -= 1\n",
    "    A[i] = item                                   # Insertion\n",
    "    print(A)                              # Comment this line\n",
    "print(A)"
   ]
  },
  {
   "cell_type": "markdown",
   "metadata": {},
   "source": [
    "<div style=\"direction:rtl;line-height:300%;\"><font face=\"XB Zar\" size=5>\n",
    "مرتب‌سازی درجی را یک مرتب‌سازی مقایسه‌ای می‌نامیم، چرا که در آن برای به دست آوردن ترتیب نهایی عناصر فقط از مقایسه‌کردن آن‌ها بهره بردیم. به این فکر کنید که آیا مقایسه‌ای بودن همیشه یک مزیت است؟ مثلا اگر درست برعکس اتفاق بالا می‌افتاد چه؟ یعنی فرض کنید کلا ۳ نوع اسکناس ممکن داریم ولی ما میلیون‌ها نسخه از هر اسکناس داریم. آن وقت از چه روشی استفاده می‌کنید؟\n",
    "<p></p>\n",
    "تا کنون دو الگوریتم مختلف برای مرتب‌سازی دیده‌ایم. یکی از نکاتی که همیشه در طراحی الگوریتم باید به آن دقت داشته باشیم این است که باید بتوانیم ثابت کنیم که الگوریتممان پایان می‌پذیرد (این اثبات خیلی وقت‌ها بدیهی است و حذف می‌شود) و وقتی که به پایانش می‌رسد یک پاسخ درست تولید می‌کند. در مورد دو الگوریتم بالا ارائه‌ی یک استدلال برای درستی پاسخ تقریبا بدیهی است. الگوریتم بعدی کمی متفاوت است و به مفهوم جدیدی نگاه می‌کند:\n",
    "\n",
    "در یک آرایه از اعداد، منظور از یک نا به جایی دو عدد است که بر خلاف ترتیب طبیعیشان ظاهر شده اند. به عبارت دقیق‌تر در آرایه‌ی $a$ به زوج مرتب \n",
    "$(i, j)$\n",
    "یک نا به جایی می‌گوییم هر گاه\n",
    "$i < j$\n",
    "ولی\n",
    "$a[i]> a[j]$.\n",
    "\n",
    "به سادگی می‌توان دید که یک آرایه مرتب است اگر و تنها اگر هیچ نا به جایی نداشته باشد.\n",
    "<p></p>\n",
    "<font color=#FF7500>\n",
    "مرتب‌سازی حبابی (Bubble Sort)\n",
    "</font>\n",
    "<p></p>\n",
    "الگوریتم بعدی که آن را مرتب‌سازی حبابی می‌نامیم بر پایه‌ی تکرار یک روند خاص که ما آن را \n",
    "«حباب گیری»\n",
    "می‌نامیم کار می‌کند. \n",
    "<p></p>\n",
    "روند حباب‌گیری بسیار ساده است:\n",
    "در این روش هر بار از انتهای لیست شروع به جستجوی عددی می‌کنیم که از عدد قبل خود کوچک‌تر باشد. فکر کنید این یک حباب در لیست است. وقتی جای عدد کوچکتر را با عدد قبلی خود عوض می‌کنیم حباب به اول لیست نزدیک‌تر می‌شود. این جابه‌جایی آن‌قدر ادامه‌ می‌یابد تا عدد مورد نظر به ابتدای لیست برسد، یا از عدد قبل از خود بزرگ‌تر باشد. در این صورت حباب می‌ترکد.\n",
    "\n",
    "<p></p>\n",
    "\n",
    "برای مرتب‌سازی کل آرایه به طول $n$ حداکثر به $n-1$ دور جستجوی لیست برای حباب‌ها نیاز داریم. چرا که بعد از اولین دور، کوچک‌ترین عدد لیست حتما به ابتدای لیست می‌رسد، و به همین‌صورت پس از $i$ امین دور جستجو، $i$ امین عدد کوچکتر لیست به جایگاه خود می‌رسد. وقتی  $n-1$ عدد در جای خود باشند حتما عدد آخر هم در جای خود است.\n",
    "<p></p>\n",
    "</font></div>"
   ]
  },
  {
   "cell_type": "code",
   "execution_count": 55,
   "metadata": {
    "collapsed": false,
    "scrolled": false
   },
   "outputs": [
    {
     "name": "stdout",
     "output_type": "stream",
     "text": [
      "[0, 5, 12, 3, 4, 7, 1, 2, 6, 19, 8, 13, 4, 10, 16]\n",
      "[0, 1, 5, 12, 3, 4, 7, 2, 4, 6, 19, 8, 13, 10, 16]\n",
      "[0, 1, 2, 5, 12, 3, 4, 7, 4, 6, 8, 19, 10, 13, 16]\n",
      "[0, 1, 2, 3, 5, 12, 4, 4, 7, 6, 8, 10, 19, 13, 16]\n",
      "[0, 1, 2, 3, 4, 5, 12, 4, 6, 7, 8, 10, 13, 19, 16]\n",
      "[0, 1, 2, 3, 4, 4, 5, 12, 6, 7, 8, 10, 13, 16, 19]\n",
      "[0, 1, 2, 3, 4, 4, 5, 6, 12, 7, 8, 10, 13, 16, 19]\n",
      "[0, 1, 2, 3, 4, 4, 5, 6, 7, 12, 8, 10, 13, 16, 19]\n",
      "[0, 1, 2, 3, 4, 4, 5, 6, 7, 8, 12, 10, 13, 16, 19]\n",
      "[0, 1, 2, 3, 4, 4, 5, 6, 7, 8, 10, 12, 13, 16, 19]\n",
      "[0, 1, 2, 3, 4, 4, 5, 6, 7, 8, 10, 12, 13, 16, 19]\n",
      "[0, 1, 2, 3, 4, 4, 5, 6, 7, 8, 10, 12, 13, 16, 19]\n",
      "[0, 1, 2, 3, 4, 4, 5, 6, 7, 8, 10, 12, 13, 16, 19]\n",
      "[0, 1, 2, 3, 4, 4, 5, 6, 7, 8, 10, 12, 13, 16, 19]\n"
     ]
    }
   ],
   "source": [
    "A = [5, 12, 3, 4, 7, 1, 0, 6, 19, 8, 13, 4, 2, 10, 16]\n",
    "n = len(A)\n",
    "for i in range(n - 1):\n",
    "    for j in range(n - 1, i, -1):\n",
    "        if A[j] < A[j - 1]:\n",
    "            A[j], A[j - 1] = A[j - 1], A[j]  # Swap a bubble\n",
    "    print(A)   "
   ]
  },
  {
   "cell_type": "markdown",
   "metadata": {},
   "source": [
    "<div style=\"direction:rtl;line-height:300%;\"><font face=\"XB Zar\" size=5>\n",
    "همان‌طور که در نتیجه‌ی اجرای الگوریتم بالا ملاحظه می‌کنید بعد از ۱۰ دور جستجوی لیست برای حباب‌ها، کل اعداد مرتب شده‌اند (کافی است به موقعیت عدد 12 دقت کنید). پس پیاده‌سازی اولیه‌ی الگوریتم دارد زمان اضافه‌ای را صرف جستجوی لیست کاملا مرتب می‌کند. <br>\n",
    "برای اصلاح این موضوع می‌توانیم در اولین دوری که حباب پیدا نکردیم اجرای الگوریتم را متوقف کنیم:\n",
    "</font></div>"
   ]
  },
  {
   "cell_type": "code",
   "execution_count": 56,
   "metadata": {
    "collapsed": false
   },
   "outputs": [
    {
     "name": "stdout",
     "output_type": "stream",
     "text": [
      "[5, 12, 3, 4, 7, 1, 0, 6, 19, 8, 13, 4, 2, 10, 16]\n",
      "[0, 5, 12, 3, 4, 7, 1, 2, 6, 19, 8, 13, 4, 10, 16]\n",
      "[0, 1, 5, 12, 3, 4, 7, 2, 4, 6, 19, 8, 13, 10, 16]\n",
      "[0, 1, 2, 5, 12, 3, 4, 7, 4, 6, 8, 19, 10, 13, 16]\n",
      "[0, 1, 2, 3, 5, 12, 4, 4, 7, 6, 8, 10, 19, 13, 16]\n",
      "[0, 1, 2, 3, 4, 5, 12, 4, 6, 7, 8, 10, 13, 19, 16]\n",
      "[0, 1, 2, 3, 4, 4, 5, 12, 6, 7, 8, 10, 13, 16, 19]\n",
      "[0, 1, 2, 3, 4, 4, 5, 6, 12, 7, 8, 10, 13, 16, 19]\n",
      "[0, 1, 2, 3, 4, 4, 5, 6, 7, 12, 8, 10, 13, 16, 19]\n",
      "[0, 1, 2, 3, 4, 4, 5, 6, 7, 8, 12, 10, 13, 16, 19]\n",
      "[0, 1, 2, 3, 4, 4, 5, 6, 7, 8, 10, 12, 13, 16, 19]\n"
     ]
    }
   ],
   "source": [
    "A = [5, 12, 3, 4, 7, 1, 0, 6, 19, 8, 13, 4, 2, 10, 16]\n",
    "print(A)\n",
    "n = len(A)\n",
    "for i in range(n-1):\n",
    "    bubble_found = False\n",
    "    for j in range(n-1, i, -1):\n",
    "        if A[j] < A[j-1]:\n",
    "            A[j],A[j-1] = A[j-1], A[j]\n",
    "            bubble_found = True\n",
    "    if not bubble_found:     # Stopping when array is sorted\n",
    "        break            \n",
    "    print(A)"
   ]
  },
  {
   "cell_type": "markdown",
   "metadata": {},
   "source": [
    "<div style=\"direction:rtl;line-height:300%;\"><font face=\"XB Zar\" size=5>\n",
    "تا کنون چند الگوریتم مختلف با دیدگاه‌های متفاوت برای مسأله‌ی مرتب‌سازی دیده‌ایم. این که از کدام یک باید استفاده کنیم به شرایط مسأله بستگی دارد و یکی از اهداف این درس این است که شما بتوانید به خوبی در این خصوص تصمیم بگیرید.\n",
    "<p></p>\n",
    "در ادامه چند ایده‌ی دیگر برای مرتب‌سازی را هم مطرح می‌کنیم.\n",
    "<p></p>\n",
    "<font color=#FF7500>\n",
    "مرتب‌سازی انتخابی (Selection Sort)\n",
    "</font>\n",
    "<p></p>\n",
    "ایده‌ای که در این‌جا مطرح می‌کنیم بسیار ساده است. برای مرتب کردن یک آرایه کافیست که کوچک‌ترین عنصر آن را پیدا کرده، جای آن را با اولین عنصر در لیست عوض کنیم. در دور دوم از بین اعداد باقیمانده (در خانه‌های ۲ تا \n",
    "$n-1$\n",
    ") کمترین عنصر را می‌یابیم و جای آن را با عنصر خانه‌ی دوم عوض می‌کنیم. به همین ترتیب در مرحله‌ی شماره‌ی \n",
    "$i$\n",
    "اعداد خانه‌های \n",
    "$i$\n",
    "تا \n",
    "$n-1$\n",
    "را چک می‌کنیم و کوچک‌ترین عدد را با عدد قرار گرفته در خانه‌ی \n",
    "$i$\n",
    "جابه‌جا می‌کنیم.\n",
    "\n",
    "کافی است این روال را برای\n",
    "$0 \\leq i < n-1$\n",
    "انجام دهیم (وقتی که \n",
    "$n-1$\n",
    "عدد به جای خود منتقل شوند قطعا بزرگترین عدد هم در جای خود قرار گرفته است). این الگوریتم را مرتب‌سازی انتخابی می‌نامند.\n",
    "<p></p>\n",
    "این الگوریتم مرتب سازی را به صورت یک تابع ساده پیاده سازی می‌کنیم که با گرفتن لیست ورودی، آن را مرتب کند و برگرداند:\n",
    "<br>\n",
    "\n",
    "</font></div>"
   ]
  },
  {
   "cell_type": "code",
   "execution_count": 57,
   "metadata": {
    "collapsed": false
   },
   "outputs": [],
   "source": [
    "#Selection Sort \n",
    "def Selection_sort(A):\n",
    "    n = len(A)\n",
    "    for i in range(n-1):\n",
    "        index = i           # The index of min remaining item\n",
    "        for j in range(i+1, n):      \n",
    "            if A[index] > A[j]:  # Finding min remaining item\n",
    "                index = j\n",
    "        A[i], A[index] = A[index], A[i]                # Swap\n",
    "    return A"
   ]
  },
  {
   "cell_type": "markdown",
   "metadata": {},
   "source": [
    "<div style=\"direction:rtl;line-height:300%;\"><font face=\"XB Zar\" size=5>\n",
    "حال می‌خواهیم آن را بر روی یک لیست فراخوانی کنیم:\n",
    "</font></div>"
   ]
  },
  {
   "cell_type": "code",
   "execution_count": 58,
   "metadata": {
    "collapsed": false
   },
   "outputs": [
    {
     "name": "stdout",
     "output_type": "stream",
     "text": [
      "[-4, -1, 0, 3, 6, 6, 7, 11, 12, 15]\n"
     ]
    }
   ],
   "source": [
    "myList = [12, 3, 15, -4, 7, 6, -1, 0, 11, 6]\n",
    "myList = Selection_sort(myList)\n",
    "print(myList)"
   ]
  },
  {
   "cell_type": "markdown",
   "metadata": {},
   "source": [
    "<div style=\"direction:rtl;line-height:300%;\"><font face=\"XB Zar\" size=5>\n",
    "<font color=#FF7500>\n",
    "مرتب‌سازی پایدار و ناپایدار (Stable / Unstable Sort)\n",
    "</font>\n",
    "<p></p>\n",
    "حال می‌خواهیم به یک خاصیت دیگر که در بعضی از الگوریتم‌های مرتب‌سازی وجود دارد بپردازیم. بعضی الگوریتم‌های مرتب‌سازی پایدارند و برخی ناپایدار. یک الگوریتم مرتب‌سازی پایدار وقتی به دو عنصر با مقدار برابر برسد ترتیب آن‌ها را حفظ می‌کند. مثلا فرض کنید که یک صف از همه‌ی دانشجویان کلاس تشکیل شده و می‌خواهیم آن‌ها را به ترتیب سن مرتب کنیم. اگر دو نفر باشند که سنشان یکسان باشد، در خروجی یک الگوریتم مرتب‌سازی درست ممکن است هر کدام از آن‌ها جلوتر از دیگری قرار گیرد ولی یک الگوریتم پایدار است اگر و تنها اگر ترتیب اولیه‌ی هر چنین زوجی را حفظ کند.\n",
    "<p></p>\n",
    "<p></p>\n",
    "<font color=#FF7500>\n",
    "مرتب سازی سطلی (Bucket Sort)\n",
    "</font><p></p>\n",
    "فرض کنید می خواهید کارت‌های بازی uno را مرتب کنید.\n",
    "ساده ترین راه جدا کردن کارت ها بر اساس رنگشان و مرتب کردن هر رنگ به صورت مجزا است.\n",
    "<img src=\"images/uno.jpg\">\n",
    "مرتب سازی سطلی از این ایده استفاده می کند و به شکل زیر است.\n",
    "<ol>\n",
    "    <li>روش گذاشتن عنصر ها در سطل ها را تعریف می کنیم و به تعداد مورد نیاز سطل در نظر می گیریم</li>\n",
    "   <li><b>پخش کردن:</b> هر عنصر را در سطلش قرار می گیرد</li>\n",
    "   <li>عناصر هر سطر را مرتب کن</li>\n",
    "   <li><b>جمع آوری:</b> به ترتیب سطل ها را نگاه می کنیم و عناصر را جمع آوری می کنیم\n",
    "</ol>\n",
    "مثلا فرض کنید لیستی از اعداد حداکثر دورقمی صحیح و نامنفی داریم و می‌خواهیم آن را به این شیوه مرتب کنیم. می‌توانیم ابتدا ده سطل با شماره‌های صفر تا ۹ در نظر بگیریم، و هر عدد را بر مبنای رقم دهگان خود در سطل مربوطه قرار دهیم. تابع ساده‌ی زیر با گرفتن یک عدد یک یا دورقمی، شماره سطل را بر اساس رقم دهگان تعیین می‌کند:\n",
    "</font></div>"
   ]
  },
  {
   "cell_type": "code",
   "execution_count": 59,
   "metadata": {
    "collapsed": true
   },
   "outputs": [],
   "source": [
    "def get_bucket(x):\n",
    "    return x // 10"
   ]
  },
  {
   "cell_type": "markdown",
   "metadata": {},
   "source": [
    "<div style=\"direction:rtl;line-height:300%;\"><font face=\"XB Zar\" size=5>\n",
    "حال با گرفتن لیستی از عناصر، تعداد سطل‌های لازم را پیدا می‌کنیم. بدین منظور بزرگترین عدد لیست ($max\\_num$) را می‌یابیم.\n",
    "می‌توانیم به اندازه‌ی ۱ + دهگان بزرگ‌ترین عدد لیست، سطل در نظر بگیریم.<p></p>\n",
    "برای آن که معنی حلقه‌ی for زیر را متوجه شوید به راهنمای پایتون مراجعه کنید.\n",
    "</font></div>"
   ]
  },
  {
   "cell_type": "code",
   "execution_count": 60,
   "metadata": {
    "collapsed": false
   },
   "outputs": [
    {
     "name": "stdout",
     "output_type": "stream",
     "text": [
      "[[], [], [], [], []]\n"
     ]
    }
   ],
   "source": [
    "A = [29, 25, 9, 49, 3, 37, 21, 43]\n",
    "max_num = max(A)\n",
    "bucket_num = get_bucket(max_num) + 1\n",
    "buckets = [[] for i in range(bucket_num)]\n",
    "print(buckets)"
   ]
  },
  {
   "cell_type": "markdown",
   "metadata": {},
   "source": [
    "<div style=\"direction:rtl;line-height:300%;\"><font face=\"XB Zar\" size=5>\n",
    "اکنون می‌توانیم هر عدد را در سطل مربوط به خود بگذاریم:\n",
    "</font></div>"
   ]
  },
  {
   "cell_type": "code",
   "execution_count": 61,
   "metadata": {
    "collapsed": false
   },
   "outputs": [
    {
     "name": "stdout",
     "output_type": "stream",
     "text": [
      "[[], [], [29], [], []]\n",
      "[[], [], [29, 25], [], []]\n",
      "[[9], [], [29, 25], [], []]\n",
      "[[9], [], [29, 25], [], [49]]\n",
      "[[9, 3], [], [29, 25], [], [49]]\n",
      "[[9, 3], [], [29, 25], [37], [49]]\n",
      "[[9, 3], [], [29, 25, 21], [37], [49]]\n",
      "[[9, 3], [], [29, 25, 21], [37], [49, 43]]\n",
      "[[9, 3], [], [29, 25, 21], [37], [49, 43]]\n"
     ]
    }
   ],
   "source": [
    "for i in A:\n",
    "    buckets[get_bucket(i)] += [i]\n",
    "    print(buckets)\n",
    "print(buckets)"
   ]
  },
  {
   "cell_type": "markdown",
   "metadata": {},
   "source": [
    "<img src=\"images/bs1.png\">"
   ]
  },
  {
   "cell_type": "markdown",
   "metadata": {},
   "source": [
    "<div style=\"direction:rtl;line-height:300%;\"><font face=\"XB Zar\" size=5>\n",
    "اگر عناصر داخل هر سطل را با استفاده از یک الگوریتم مقایسه‌ای (مثل مرتب‌سازی انتخابی) مرتب کنیم، و عناصر سطل‌ها را به ترتیب شماره سطل پشت سر هم قرار دهیم، آرایه‌ی اصلی را کاملا مرتب کرده‌ایم.\n",
    "</font></div>"
   ]
  },
  {
   "cell_type": "code",
   "execution_count": 62,
   "metadata": {
    "collapsed": false
   },
   "outputs": [
    {
     "name": "stdout",
     "output_type": "stream",
     "text": [
      "[[9, 3], [], [29, 25, 21], [37], [49, 43]]\n",
      "[[3, 9], [], [21, 25, 29], [37], [43, 49]]\n"
     ]
    }
   ],
   "source": [
    "print(buckets)\n",
    "for i in range(bucket_num):\n",
    "    buckets[i] = Selection_sort(buckets[i])\n",
    "print(buckets)"
   ]
  },
  {
   "cell_type": "code",
   "execution_count": 63,
   "metadata": {
    "collapsed": false
   },
   "outputs": [
    {
     "name": "stdout",
     "output_type": "stream",
     "text": [
      "[3, 9, 21, 25, 29, 37, 43, 49]\n"
     ]
    }
   ],
   "source": [
    "A = []\n",
    "for i in range(bucket_num):\n",
    "    A += buckets[i]\n",
    "print A"
   ]
  },
  {
   "cell_type": "markdown",
   "metadata": {},
   "source": [
    "<div style=\"direction:rtl;line-height:300%;\"><font face=\"XB Zar\" size=5>\n",
    "مرتب سازی سطلی حالت کلی مرتب سازی شمارشی است و اگر تعداد عناصر داخل هر سطل حداکثر 1 باشد دقیقا همان مرتب سازی شمارشی خواهد بود.\n",
    "</font></div>"
   ]
  },
  {
   "cell_type": "markdown",
   "metadata": {},
   "source": [
    "<div style=\"direction:rtl;line-height:300%;\"><font face=\"XB Zar\" size=5>\n",
    "<p></p>\n",
    "<font color=#FF7500>\n",
    "مرتب‌سازی مبنایی (Radix Sort)\n",
    "</font>\n",
    "<p></p>\n",
    "حال فرض کنید تعدادی عدد صحیح نامنفی به ما داده شده است \n",
    "و می‌خواهیم آن‌ها را مرتب کنیم. \n",
    "<br>\n",
    "می‌توانیم از ایده‌ی مرتب سازی سطلی استفاده کنیم. بدین ترتیب که ابتدا اعداد را بر اساس رقم یکان مرتب کنیم. سپس اعداد را بر اساس رقم دهگان مرتب کنیم، اما مطمین باشیم این مرتب سازی پایدار است. با این حساب اگر دو عدد رقم دهگان مساوی داشته باشند، عددی که رقم یکان کمتری دارد (و پس از مرتب سازی بر اساس یکان در دور قبل زودتر قرار گرفت) همچنان در لیست زودتر می‌آید. با این حساب تمام اعداد بر اساس دو رقم یکان و دهگان مرتب خواهند شد. اگر همین کار را برای صدگان، هزارگان و ... تکرار کنیم تمامی اعداد مرتب خواهند شد. به این روش، مرتب‌سازی مبنایی می‌گویند.\n",
    "</font></div>"
   ]
  },
  {
   "cell_type": "code",
   "execution_count": 64,
   "metadata": {
    "collapsed": false
   },
   "outputs": [
    {
     "name": "stdout",
     "output_type": "stream",
     "text": [
      "[1, 4, 16, 19, 25, 223, 909, 1523, 1648, 3229]\n"
     ]
    }
   ],
   "source": [
    "A = [1523, 1, 19, 3229, 4, 16, 25, 909, 223, 1648]\n",
    "max_num = max(A)\n",
    "radix = 1            # Start to sort based on rightmost digit\n",
    "while radix <= max_num:\n",
    "    B = [[] for i in range(10)]    # 10 buckets for 10 digits\n",
    "    for i in A:                # Move each number to a bucket\n",
    "        B[(i/radix)%10] += [i]     \n",
    "    A = []                                   # Clear the list\n",
    "    for i in range(10):\n",
    "        A += B[i]                            # Append buckets\n",
    "    radix *= 10\n",
    "print(A)"
   ]
  }
 ],
 "metadata": {
  "celltoolbar": "Slideshow",
  "kernelspec": {
   "display_name": "Python 2",
   "language": "python",
   "name": "python2"
  },
  "language_info": {
   "codemirror_mode": {
    "name": "ipython",
    "version": 2
   },
   "file_extension": ".py",
   "mimetype": "text/x-python",
   "name": "python",
   "nbconvert_exporter": "python",
   "pygments_lexer": "ipython2",
   "version": "2.7.9"
  }
 },
 "nbformat": 4,
 "nbformat_minor": 0
}
