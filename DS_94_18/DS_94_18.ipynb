{
 "cells": [
  {
   "cell_type": "markdown",
   "metadata": {},
   "source": [
    "<div style=\"direction:rtl;line-height:300%;\"><font face=\"XB Zar\" size=5>\n",
    "<div style=\"direction:rtl;line-height:300%;\"><font face=\"XB Zar\" size=5>\n",
    "<div align=center>\n",
    "<font face=\"IranNastaliq\" size=30>\n",
    "<p></p>\n",
    "به نام خدا\n",
    "</font>\n",
    "<br>\n",
    "<font color=#FF7500>\n",
    "دانشگاه صنعتی شریف - دانشکده مهندسی کامپیوتر\n",
    "</font>\n",
    "<br>\n",
    "<font color=blue>\n",
    "داده‌ساختارها و الگوریتم‌ها\n",
    "</font>\n",
    "</div>\n",
    "علی شریفی زارچی\n",
    "<span style=\"float:left;\">\n",
    "ترم دوم سال تحصیلی ۹۴-۹۵\n",
    "</span>\n",
    "<hr/>\n",
    "<font color=red size=6>\n",
    "<p></p>\n",
    "\n",
    "<div align=center>فصل هجدهم: مجموعه‌های مجزا </div>\n",
    "</font>\n",
    "<div align=left>\n",
    "سروش عبادیان، محمد‌مهدی جهان‌آرا\n",
    "</div>\n",
    "<hr>"
   ]
  },
  {
   "cell_type": "markdown",
   "metadata": {},
   "source": [
    "<div style=\"direction:rtl;line-height:300%;\"><font face=\"XB Zar\" size=5>\n",
    "<p></p>\n",
    "<font color=#FF7500 size=6>\n",
    "<p></p>\n",
    "مجموعه‌های مجزا</font>\n",
    "<hr>\n",
    "در این فصل می‌خواهیم داده‌ساختاری بهینه برای نگهداری گردایه‌ایی از مجموعه‌های مجزا از هم بسازیم.  \n",
    "n\n",
    "داریم که هرکدام دقیقا عضو یک مجموعه هستند، هر مجموعه یک سرگروه دارد که با آن شناخته می‌شود. مثلا شکل زیر نمایی از سه مجموعه‌ی مجزا از هم با ۷ عنصر است. سرگروه هر مجموعه با رنگ قرمز مشخص شده است.\n",
    "</font></div>"
   ]
  },
  {
   "cell_type": "markdown",
   "metadata": {},
   "source": [
    "<div align=center> \n",
    "<img src=\"images/01.png\"> تصویر ۱ \n",
    "</div>"
   ]
  },
  {
   "cell_type": "markdown",
   "metadata": {},
   "source": [
    "<div style=\"direction:rtl;line-height:300%;\"><font face=\"XB\n",
    "Zar\" size=5>\n",
    "\n",
    "این داده ساختار در طراحی الگوریتم‌هایی مثل درخت‌پوشای کمینه بسیار سودمند است.</font></div>"
   ]
  },
  {
   "cell_type": "markdown",
   "metadata": {},
   "source": [
    "<div style=\"direction:rtl;line-height:300%;\"><font face=\"XB Zar\" size=5>\n",
    "<font color=#FF7500 size=6>\n",
    "تعریف دقیق‌تر\n",
    "</font><br>\n",
    "داده ساختار مجموعه‌های مجزا (disjoint-set یا union-find) از دو عمل زیر پشتیبانی می‌کند:\n",
    "<ul>\n",
    "<li> Find(x) : سرگروه مجموعه‌ای که عنصر $x$ در آن است را پیدا می‌کند. </li>\n",
    "<li> Union(x, y) : دو مجموعه‌ای که $x$ و $y$ سرگروه‌های آن‌ها هستند را ادغام می‌کند. </li> </ul>\n",
    "در ابتدا همه‌ی عناصر در مجموعه‌های تکی و جدا از هم هستند.\n",
    "</font></div>"
   ]
  },
  {
   "cell_type": "markdown",
   "metadata": {},
   "source": [
    "<div style=\"direction:rtl;line-height:300%;\"><font face=\"XB Zar\" size=5>\n",
    "<font color=#FF7500 size=6>\n",
    "پیاده‌سازی با لیست‌پیوندی\n",
    "</font><br>\n",
    "یک گردایه از مجموعه‌های مجزا با مجموعا $n$ عنصر داریم. \n",
    "آرایه‌ی $Set[i]$ سرگروه مجموعه‌ای که عنصر i را شامل می‌شود نگهداری می‌کند.\n",
    "برای هر مجموعه یک لیست پیوندی از عناصرش نگهداری می‌کنیم. به طوری که عنصر اول هر لیست سرگروه مجموعه متناظر است.\n",
    "<br>\n",
    "\n",
    "در این پیاده سازی تابع $Find(x)$ در $O(1)$ قابل محاسبه است و برابر با $Set[x]$ است. اما در مورد $Union(x, y)$ داستان کمی پیچیده‌تر است.\n",
    "<br>\n",
    "برای ادغام دو مجموعه لیست‌پیوندی‌های آن دو را ادغام (یا متصل) می‌کنیم. این کار در مرتبه‌ی زمانی $O(1)$ ممکن است. اما باید مقادیر $Set[i]$ را برای i هایی که سرگروه آن‌ها تغییر می‌کند اصلاح کنیم، این تعداد در بدترین حالت می‌تواند از مرتبه‌ی $\\Theta(n)$ باشد.\n",
    "<br>\n",
    "اگر در ادغام همیشه لیستی که عناصر کمتری دارد را به لیست دوم اضافه کنیم هزینه‌ی مجموع همه‌ی دستورات Union حداکثر از $O(nlgn)$ خواهد بود! زیرا هر بار که سرگروه یک عنصر تغییر می‌کند تعداد عناصر مجموعه‌ای که در آن حضور دارد دست کم دو برابر می‌شود، از آنجایی که حداکثر تعداد اعضای یک مجموعه n تا است، پس حداکثر lg n بار سرگروه هر عنصر تغییر می‌کند. \n",
    "با این حساب می‌توان گفت هزینه‌ی سرشکن هر دستور Union از مرتبه‌ی $O(lg n)$ است.\n",
    "</font></div>"
   ]
  },
  {
   "cell_type": "markdown",
   "metadata": {},
   "source": [
    "<div style=\"direction:rtl;line-height:300%;\"><font face=\"XB Zar\" size=5>\n",
    "<font color=#FF7500 size=6>\n",
    "مثال  پیاده‌سازی با لیست‌پیوندی\n",
    "</font><br>\n",
    "شکل زیر مجموعه‌های تصویر-۱ را به صورت پیاده‌سازی با لیست‌پیوندی نشان می‌دهد.\n",
    "</font></div>"
   ]
  },
  {
   "cell_type": "markdown",
   "metadata": {},
   "source": [
    "<div align=center> \n",
    "<img src=\"images/02.png\"> \n",
    "تصویر ۲ \n",
    "</div>"
   ]
  },
  {
   "cell_type": "markdown",
   "metadata": {},
   "source": [
    "<div style=\"direction:rtl;line-height:300%;\"><font face=\"XB Zar\" size=5>\n",
    "شکل بعدی تصویر همین مجموعه‌های مجزا از هم را بعد از اجرای دستور $Union(1, 4)$  نشان می‌دهد.\n",
    "</font></div>"
   ]
  },
  {
   "cell_type": "markdown",
   "metadata": {},
   "source": [
    "<div align=center> \n",
    "<img src=\"images/03.png\"> \n",
    "تصویر ۳ \n",
    "</div>"
   ]
  },
  {
   "cell_type": "markdown",
   "metadata": {},
   "source": [
    "<div style=\"direction:rtl;line-height:300%;\"><font face=\"XB Zar\" size=5>\n",
    "در ادامه پیاده‌سازی با ۷ رأس آورده‌ایم. در مرحله‌ی آخر حالتی مانند تصویر ۲ و ۳ وجود دارد که رئوس ۱ و ۴ را مرج می‌کنیم.\n",
    "</font></div>"
   ]
  },
  {
   "cell_type": "code",
   "execution_count": 1,
   "metadata": {
    "collapsed": false
   },
   "outputs": [
    {
     "name": "stdout",
     "output_type": "stream",
     "text": [
      "union of 1, 3 was OKAY\n",
      "now components are: \n",
      "\tnew component:  [0]\n",
      "\tnew component:  [2]\n",
      "\tnew component:  [3, 1]\n",
      "\tnew component:  [4]\n",
      "\tnew component:  [5]\n",
      "\tnew component:  [6]\n",
      "\n",
      "union of 2, 4 was OKAY\n",
      "now components are: \n",
      "\tnew component:  [0]\n",
      "\tnew component:  [3, 1]\n",
      "\tnew component:  [4, 2]\n",
      "\tnew component:  [5]\n",
      "\tnew component:  [6]\n",
      "\n",
      "union of 1, 6 was OKAY\n",
      "now components are: \n",
      "\tnew component:  [0]\n",
      "\tnew component:  [3, 1, 6]\n",
      "\tnew component:  [4, 2]\n",
      "\tnew component:  [5]\n",
      "\n",
      "union of 3, 6 was NOKAY\n",
      "now components are: \n",
      "\tnew component:  [0]\n",
      "\tnew component:  [3, 1, 6]\n",
      "\tnew component:  [4, 2]\n",
      "\tnew component:  [5]\n",
      "\n",
      "union of 1, 4 was OKAY\n",
      "now components are: \n",
      "\tnew component:  [0]\n",
      "\tnew component:  [3, 1, 6, 4, 2]\n",
      "\tnew component:  [5]\n",
      "\n"
     ]
    }
   ],
   "source": [
    "\n",
    "class DisjointSet(object):\n",
    "    def __init__(self, n):\n",
    "        self.n = n\n",
    "        # list of components\n",
    "        self.comp = [[i] for i in range(n)]\n",
    "        # pointing to the head of the component list\n",
    "        self.head = [i for i in range(n)]\n",
    "\n",
    "    def find(self, u):\n",
    "        return self.head[u]\n",
    "\n",
    "    def union(self, u, v):\n",
    "        u, v = self.find(u), self.find(v)\n",
    "        if u == v: # u and v are in the same component\n",
    "            return False\n",
    "\n",
    "        # set u to the smaller list\n",
    "        if len(self.comp[u]) > len(self.comp[v]):\n",
    "            u, v = v, u\n",
    "\n",
    "        # merging the smaller list into the large list\n",
    "        for i in self.comp[u]:\n",
    "            self.comp[v].append(i)\n",
    "            # updating head of all vertices\n",
    "            self.head[i] = v\n",
    "\n",
    "        return True\n",
    "\n",
    "    def print_all_components(self):\n",
    "        for i in range(n):\n",
    "            if self.head[i] == i: # we count every component by its head\n",
    "                print \"\tnew component: \", self.comp[i]\n",
    "\n",
    "\n",
    "n = 7\n",
    "\n",
    "edges = [(1, 3), (2, 4), (1, 6), (3, 6), (1, 4)]\n",
    "\n",
    "dsu = DisjointSet(n)\n",
    "\n",
    "for u, v in edges:\n",
    "    success = dsu.union(u, v)\n",
    "    print \"union of %d, %d was %s\" % (u, v, \"OKAY\" if success else \"NOKAY\")\n",
    "    print \"now components are: \"\n",
    "    dsu.print_all_components()\n",
    "    print"
   ]
  },
  {
   "cell_type": "markdown",
   "metadata": {},
   "source": [
    "<div style=\"direction:rtl;line-height:300%;\"><font face=\"XB Zar\" size=5>\n",
    "<font color=#FF7500 size=6>\n",
    "پیاده‌سازی درختی\n",
    "</font><br>\n",
    "در پیاده‌سازی با استفاده از لیست‌پیوندی توانستیم دستور $Find$ را در مرتبه‌ی O(1) و دستور $Union$ به طور سرشکن از مرتبه‌ی $O(lgn)$ محاسبه کنیم. \n",
    "<br>\n",
    "می‌خواهیم پیاده‌سازی را طوری انجام بدهیم که هزینه‌ی هر عمل $Find$ از مرتبه‌ي $O(lgn)$ و هزینه‌ی $Union$ از مرتبه‌ی O(1) بشود.\n",
    "با توجه به مسئله‌ای که قرار است با استفاده از این داده‌ساختار حل کنیم ممکن است در شرایط مختلف پیاده‌سازی‌های مختلف آن نسبت به هم برتری داشته باشند.\n",
    "<br>\n",
    "</font></div>"
   ]
  },
  {
   "cell_type": "markdown",
   "metadata": {},
   "source": [
    "<div style=\"direction:rtl;line-height:300%;\"><font face=\"XB Zar\" size=5>\n",
    "به ازای هر عنصر یک راس در نظر می‌گیریم. هر راس $v$ دقیقا یک یال جهت‌دار خروجی به یک راس دیگر مثل $u$ (که آن را پدر $v$ می‌نامیم) یا یک طوقه به خودش دارد.\n",
    "<br>\n",
    "هر مجموعه به صورت یک گراف جهت دار بدون دور است، به طوری که از هر راس متناظر از اعضای مجموعه به راس سرگروه مجموعه مسیر جهت‌دار وجود دارد. (فقط سرگروه مجموعه یال خروجی به عنصر دیگری ندارد و به خودش یال‌دارد.)\n",
    "<br>\n",
    "شکل زیر نمایی از یک پیاده‌سازی درختی برای مثال تصویر-۱ است.\n",
    "\n",
    "</font></div>"
   ]
  },
  {
   "cell_type": "markdown",
   "metadata": {
    "collapsed": true
   },
   "source": [
    "<div align=center> \n",
    "<img src=\"images/04.png\"> \n",
    "تصویر ۴ \n",
    "</div>"
   ]
  },
  {
   "cell_type": "markdown",
   "metadata": {},
   "source": [
    "<div style=\"direction:rtl;line-height:300%;\"><font face=\"XB Zar\" size=5>\n",
    "برای ادغام کردن دو مجموعه، پدر سرگروه اولی را سرگروه دومی قرار می‌دهیم یعنی طوقه‌ی سرگروه اولی را حذف و یک یال جهت‌دار از آن به سرگروه دومی اضافه می‌کنیم. هزینه‌ی این کار به روشنی از $O(1)$ است.  تصویر-۵ نمایی از مجموعه‌های مجزا بعد از اجرای دستور $Union(1, 4)$ است.\n",
    "</font></div>"
   ]
  },
  {
   "cell_type": "markdown",
   "metadata": {},
   "source": [
    "<div align=center> \n",
    "<img src=\"images/05.png\"> \n",
    "تصویر ۵ \n",
    "</div>"
   ]
  },
  {
   "cell_type": "markdown",
   "metadata": {},
   "source": [
    "<div style=\"direction:rtl;line-height:300%;\"><font face=\"XB Zar\" size=5>\n",
    "برای پیدا کردن سرگروه $x$ مسیر جهت‌دار آن را طی می‌کنیم تا به سرگروه برسیم. هزینه‌ی $Find(x)$ در بدترین حالت از مرتبه‌ی ارتفاع درخت مجموعه‌ی $x$ است. اما ارتفاع درخت می‌تواند از مرتبه‌ی $\\Theta(n)$ باشد!\n",
    "</font></div>"
   ]
  },
  {
   "cell_type": "markdown",
   "metadata": {},
   "source": [
    "<div style=\"direction:rtl;line-height:300%;\"><font face=\"XB Zar\" size=5>\n",
    "برای اینکه ارتفاع درخت‌ها را تا جایی که می‌توانیم کم نگهداریم هر بار که دو مجموعه را ادغام می‌کنیم درختی را زیردرخت دیگری می‌کنیم که ارتفاع آن کمتر مساوی دومی باشد. ارتفاع درخت حاصل تنها در صورتی از ارتفاع درخت‌های اولیه بیشتر است که ارتفاع درخت متناظر هر دو مجموعه برابر بوده باشد. با اجرای این ایده و استفاده از لم زیر می‌توان نشان‌داد که ارتفاع درخت‌ها هیچ وقت از $lg n$ بیشتر نمی‌شود!<br>\n",
    "لم) یک درخت با ارتفاع $h$ دست کم $2^h$ راس دارد.\n",
    "<br>\n",
    "با استقرا لم را ثابت می‌کنیم.\n",
    "<br>\n",
    "پایه) یک درخت به ارتفاع صفر دست کم یک راس دارد.\n",
    "<br>\n",
    "فرض) هر درخت با ارتفاع  $i < h$ دست کم $2^i$ راس دارد.\n",
    "<br>\n",
    "گام) هر درخت با ارتفاع $h$ در چند مرحله قبل از ادغام دو درخت با ارتفاع برابر $h-1$ ساخته شده است. طبق فرض استقرا هر کدام از آن دو $2 ^ {h-1}$ راس دارند، پس درخت حاصل $2^h$ راس دارد. \n",
    "\n",
    "<br>\n",
    "\n",
    "در ادامه پیاده‌سازی درختی را آورده‌ایم.\n",
    "</font></div>"
   ]
  },
  {
   "cell_type": "code",
   "execution_count": 2,
   "metadata": {
    "collapsed": false
   },
   "outputs": [
    {
     "name": "stdout",
     "output_type": "stream",
     "text": [
      "union of 1, 3 was OKAY\n",
      "now components are: \n",
      "\tnew component:  [0]\n",
      "\tnew component:  [2]\n",
      "\tnew component:  [1, 3]\n",
      "\tnew component:  [4]\n",
      "\tnew component:  [5]\n",
      "\tnew component:  [6]\n",
      "\n",
      "union of 2, 4 was OKAY\n",
      "now components are: \n",
      "\tnew component:  [0]\n",
      "\tnew component:  [1, 3]\n",
      "\tnew component:  [2, 4]\n",
      "\tnew component:  [5]\n",
      "\tnew component:  [6]\n",
      "\n",
      "union of 1, 6 was OKAY\n",
      "now components are: \n",
      "\tnew component:  [0]\n",
      "\tnew component:  [1, 3, 6]\n",
      "\tnew component:  [2, 4]\n",
      "\tnew component:  [5]\n",
      "\n",
      "union of 3, 6 was NOKAY\n",
      "now components are: \n",
      "\tnew component:  [0]\n",
      "\tnew component:  [1, 3, 6]\n",
      "\tnew component:  [2, 4]\n",
      "\tnew component:  [5]\n",
      "\n",
      "union of 1, 4 was OKAY\n",
      "now components are: \n",
      "\tnew component:  [0]\n",
      "\tnew component:  [1, 2, 3, 4, 6]\n",
      "\tnew component:  [5]\n",
      "\n"
     ]
    }
   ],
   "source": [
    "class Node(object):\n",
    "    def __init__(self, label):\n",
    "        self.label = label\n",
    "        self.par = self\n",
    "        self.rank = 0\n",
    "\n",
    "\n",
    "class DisjointSet(object):\n",
    "    def __init__(self, n):\n",
    "        self.n = n\n",
    "        self.nodes = [Node(i) for i in range(n)]\n",
    "\n",
    "    def find(self, u):\n",
    "        if u == u.par:\n",
    "            return u\n",
    "        return self.find(u.par)\n",
    "\n",
    "    def union(self, u, v):\n",
    "        u, v = self.find(u), self.find(v)\n",
    "        if u == v:  # u and v are in the same component\n",
    "            return False\n",
    "            \n",
    "        # making v the vertex with better rank\n",
    "        if u.rank > v.rank:\n",
    "            u, v = v, u\n",
    "\n",
    "        # merging two components\n",
    "        u.par = v\n",
    "\n",
    "        # updating maximum depth as rank\n",
    "        if u.rank == v.rank:\n",
    "            v.rank += 1\n",
    "\n",
    "        return True\n",
    "\n",
    "    def print_all_components(self):\n",
    "        comps = [[] for _ in range(self.n)]\n",
    "        for node in self.nodes:\n",
    "            comps[self.find(node).label].append(node.label)\n",
    "\n",
    "        for i in range(n):\n",
    "            if len(comps[i]):\n",
    "                print \"\tnew component: \", comps[i]\n",
    "\n",
    "n = 7\n",
    "\n",
    "edges = [(1, 3), (2, 4), (1, 6), (3, 6), (1, 4)]\n",
    "\n",
    "dsu = DisjointSet(n)\n",
    "\n",
    "for u, v in edges:\n",
    "    success = dsu.union(dsu.nodes[u], dsu.nodes[v])\n",
    "    print \"union of %d, %d was %s\" % (u, v, \"OKAY\" if success else \"NOKAY\")\n",
    "    print \"now components are: \"\n",
    "    dsu.print_all_components()\n",
    "    print\n"
   ]
  },
  {
   "cell_type": "markdown",
   "metadata": {},
   "source": [
    "<div style=\"direction:rtl;line-height:300%;\"><font face=\"XB Zar\" size=5>\n",
    "<font color=#FF7500 size=6>\n",
    "فشرده‌سازی مسیر</font><br>\n",
    "به طور شهودی هرچه فاصله‌ی راس‌های یک درخت با سرگروه مجموعه کمتر باشد هزینه‌ی دستورات$Find$ کمتر خواهد بود.\n",
    "<br>\n",
    "اگر هر بار که دستور $Find(x)$ اجرا می‌شود، یال خروجی همه‌ی راس‌های مسیر از x تا سرگروه را مستقیما به سرگروه وصل کنیم به طور شهودی هزینه‌ی دستورات $Find$ بعدی را کاهش داده‌ایم و همچنین هزینه‌ی دستور $Find$ از مرتبه‌ی $O(lgn)$ باقی می‌ماند.\n",
    "<br>\n",
    "به این ایده فشرده‌سازی مسیر می‌گویند. در ابتدا شاید فشرده‌سازی مسیر خیلی سودمند به نظر نیاید اما می‌توان نشان داد با اجرای این ایده هزینه‌ی دستور $Find$ به طور سرشکن به $O(lg^*(n))$ کاهش می‌یابد.</font></div>"
   ]
  },
  {
   "cell_type": "code",
   "execution_count": 3,
   "metadata": {
    "collapsed": false
   },
   "outputs": [
    {
     "name": "stdout",
     "output_type": "stream",
     "text": [
      "union of 1, 3 was OKAY\n",
      "now components are: \n",
      "\tnew component:  [0]\n",
      "\tnew component:  [2]\n",
      "\tnew component:  [1, 3]\n",
      "\tnew component:  [4]\n",
      "\tnew component:  [5]\n",
      "\tnew component:  [6]\n",
      "\n",
      "union of 2, 4 was OKAY\n",
      "now components are: \n",
      "\tnew component:  [0]\n",
      "\tnew component:  [1, 3]\n",
      "\tnew component:  [2, 4]\n",
      "\tnew component:  [5]\n",
      "\tnew component:  [6]\n",
      "\n",
      "union of 1, 6 was OKAY\n",
      "now components are: \n",
      "\tnew component:  [0]\n",
      "\tnew component:  [1, 3, 6]\n",
      "\tnew component:  [2, 4]\n",
      "\tnew component:  [5]\n",
      "\n",
      "union of 3, 6 was NOKAY\n",
      "now components are: \n",
      "\tnew component:  [0]\n",
      "\tnew component:  [1, 3, 6]\n",
      "\tnew component:  [2, 4]\n",
      "\tnew component:  [5]\n",
      "\n",
      "union of 1, 4 was OKAY\n",
      "now components are: \n",
      "\tnew component:  [0]\n",
      "\tnew component:  [1, 2, 3, 4, 6]\n",
      "\tnew component:  [5]\n",
      "\n"
     ]
    }
   ],
   "source": [
    "# we should change the disjoint set class find method to this:\n",
    "def find(dsu, u):\n",
    "    if u != u.par: # here we user path compression trick\n",
    "        u.par = dsu.find(u.par)\n",
    "    return u.par\n",
    "\n",
    "# do not pay attention to this! only used in order to not copy paste the whole class here\n",
    "DisjointSet.find = find\n",
    "\n",
    "n = 7\n",
    "\n",
    "edges = [(1, 3), (2, 4), (1, 6), (3, 6), (1, 4)]\n",
    "\n",
    "dsu = DisjointSet(n)\n",
    "\n",
    "for u, v in edges:\n",
    "    success = dsu.union(dsu.nodes[u], dsu.nodes[v])\n",
    "    print \"union of %d, %d was %s\" % (u, v, \"OKAY\" if success else \"NOKAY\")\n",
    "    print \"now components are: \"\n",
    "    dsu.print_all_components()\n",
    "    print\n"
   ]
  }
 ],
 "metadata": {
  "kernelspec": {
   "display_name": "Python 2",
   "language": "python",
   "name": "python2"
  },
  "language_info": {
   "codemirror_mode": {
    "name": "ipython",
    "version": 2
   },
   "file_extension": ".py",
   "mimetype": "text/x-python",
   "name": "python",
   "nbconvert_exporter": "python",
   "pygments_lexer": "ipython2",
   "version": "2.7.9"
  }
 },
 "nbformat": 4,
 "nbformat_minor": 0
}
