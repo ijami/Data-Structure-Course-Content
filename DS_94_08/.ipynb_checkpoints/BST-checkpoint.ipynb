{
 "cells": [
  {
   "cell_type": "markdown",
   "metadata": {},
   "source": [
    "<div style=\"direction:rtl;line-height:300%;\"><font face=\"XB Zar\" size=5>\n",
    "<div style=\"direction:rtl;line-height:300%;\"><font face=\"XB Zar\" size=5>\n",
    "<div align=center>\n",
    "<font face=\"IranNastaliq\" size=30>\n",
    "<p></p>\n",
    "به نام خدا\n",
    "</font>\n",
    "<br>\n",
    "<font color=#FF7500>\n",
    "دانشگاه صنعتی شریف - دانشکده مهندسی کامپیوتر\n",
    "</font>\n",
    "<br>\n",
    "<font color=blue>\n",
    "داده‌ساختارها و الگوریتم‌ها\n",
    "</font>\n",
    "</div>\n",
    "علی شریفی زارچی\n",
    "<span style=\"float:left;\">\n",
    "ترم دوم سال تحصیلی ۱۳۹۴-۹۵\n",
    "</span>\n",
    "<hr/>\n",
    "<font color=red size=6>\n",
    "<p></p>\n",
    "\n",
    "<div align=center>درخت دودویی جست‌وجو</div>\n",
    "</font>\n",
    "<div align=left>\n",
    "یاشار دبیران و آرش پوردامغانی\n",
    "</div>\n",
    "<hr>\n",
    "درخت دودویی جست‌وجو ( به انگلیسی: Binary Search Tree یا به اختصار د.د.ج) درختی ریشه‌دار و دودویی است که به ازای هر راس مانند v، مقادیر تمامی راس های زیر درخت بچه‌ی سمت چپ آن از مقدار راس v کوچک‌تر و مقادیر تمامی راس‌های زیردرخت بچه‌ی سمت راستش از v بزرگ‌تر است.  \n",
    "<br>\n",
    "<img src=\"2.jpg\" style=\"float:center; width:40%\">\n",
    "<br>\n",
    "<p></p>\n",
    "هر راس درون د.د.ج  یک برچسب، اشاره‌گر به بچه چپ، اشاره‌گر به بچه راست و اشاره‌گر به پدرش دارد.\n",
    "<br>\n",
    "به غیر از راس ریشه، بقیه راس‌ها حتما پدر خواهند داشت."
   ]
  },
  {
   "cell_type": "code",
   "execution_count": 1,
   "metadata": {
    "collapsed": true
   },
   "outputs": [],
   "source": [
    "class Node:\n",
    "    def __init__(self, label, parent):\n",
    "        self.label = label;\n",
    "        self.parent = parent;\n",
    "        self.leftChild = None;\n",
    "        self.rightChild = None;"
   ]
  },
  {
   "cell_type": "markdown",
   "metadata": {},
   "source": [
    "<div style=\"direction:rtl;line-height:300%;\"><font face=\"XB Zar\" size=5>\n",
    "نکته: اگر BST را به صورت pre-order پیمایش کنیم، اعداد را به صورت مرتب شده بدست می‌آوریم. چرا؟\n",
    "<p></p><br>\n",
    "برای کار با این ساختمان داده، ۳ عمل متصور است:\n",
    "<ul>\n",
    "    <li> جستجو </li>\n",
    "    <li> درج </li>\n",
    "    <li> حذف </li>\n",
    "</ul>\n",
    "<p></p>\n",
    "<br>\n",
    "<div style=\"direction:rtl;line-height:300%;\"><font face=\"XB Zar\" size=5>\n",
    "<font color=#FF7500 size=6>\n",
    "جستجو\n",
    "</font>\n",
    "<p></p>\n",
    "\n",
    "<hr>\n",
    "برای جست‌وجو یک عنصر در د.د.ج، با شروع از ریشه، به ازای هر راسی که درون آن هستیم، مقداری که می‌خواهیم پیدا کنیم را با مقدار راس فعلی مقایسه می‌کنیم. در صورت مساوی بودن، عنصر مورد نظر را پیدا کرده‌ایم اما در غیر این صورت بسته به بزرگ‌تر یا کوچک‌تر بودن مقدار عنصر مورد نظر ما از برچسب راسی که داخلش هستیم، جست‌وجو را در زیردرخت سمت راست یا چپ این راس ادامه می‌دهیم.\n",
    "<br>\n",
    "<img src=\"find-animation.gif\" style=\"float:center; width:50%\">"
   ]
  },
  {
   "cell_type": "code",
   "execution_count": 2,
   "metadata": {
    "collapsed": true
   },
   "outputs": [],
   "source": [
    "def search(node, label):\n",
    "    if node is None or node.label == label:\n",
    "        return node;\n",
    "    elif node.label > label:\n",
    "        return search(node.leftChild, label);\n",
    "    else:\n",
    "        return search(node.rightChild, label);"
   ]
  },
  {
   "cell_type": "markdown",
   "metadata": {},
   "source": [
    "<div style=\"direction:rtl;line-height:300%;\"><font face=\"XB Zar\" size=5>\n",
    "در صورتی که جست‌وجو موفقیت آمیز باشد، تابع به ما راس با مقدار مورد نظر را برمی‌گرداند اما در صورتی که جست‌وجو موفقیت آمیز نباشد، None برگردانده می‌شود.\n",
    "<p></p>\n",
    "<br>\n",
    "اگر از ریشه شروع کنیم و به سمت بچه‌ی چپ هر راس حرکت کنیم تا به راسی مانند v برسیم که بچه‌ی چپ نداشته باشد، راس v مقدار مینیمم را در بین راس‌های د.د.ج خواهد داشت.\n",
    "<br>\n",
    "به طور مشابه اگر به جای حرکت به سمت بچه‌ی چپ، به سمت بچه‌ی راست حرکت کنیم راس ماکزیمم را خواهیم‌داشت."
   ]
  },
  {
   "cell_type": "code",
   "execution_count": 3,
   "metadata": {
    "collapsed": true
   },
   "outputs": [],
   "source": [
    "def findMin(node):\n",
    "    if node.leftChild is None:\n",
    "        return node;\n",
    "    else:\n",
    "        return findMin(node.leftChild);\n",
    "    \n",
    "\n",
    "def findMax(node):\n",
    "    if node.rightChild is None:\n",
    "        return node;\n",
    "    else:\n",
    "        return findMax(node.rightChild);"
   ]
  },
  {
   "cell_type": "markdown",
   "metadata": {},
   "source": [
    "<p></p>\n",
    "<br>\n",
    "<div style=\"direction:rtl;line-height:300%;\"><font face=\"XB Zar\" size=5>\n",
    "<font color=#FF7500 size=6>\n",
    "درج\n",
    "</font>\n",
    "<p></p>\n",
    "\n",
    "<hr>\n",
    "برای درج یک عنصر، رویه بازگشتی زیر را در نظر می‌گیریم:\n",
    "<br>\n",
    "با شروع از ریشه، راس v که در حال حاضر در آن هستیم را در نظر می‌گیریم. مقداری که می‌خواهیم درج کنیم را با برچسب راس v مقایسه می‌کنیم. اگر از برچسب راس v کوچک‌تر بود، پس جایش در زیردرخت سمت چپ v است و اگر مقدارش از برچسب راس v بزرگ‌تر بود، جایش در زیردرخت سمت راست v است. بسته به این مقایسه، به یکی از بچه‌های چپ و راست v می‌رویم و کار را ادامه می‌دهیم. این کار وقتی پایان می‌یابد که v مساوی None شود. به طور مثال فرض کنید باید به زیردرخت بچه سمت راست v برویم ولی v بچه‌ی سمت راست ندارد، در این صورت یک راس با مقدار مورد نظرمان ایجاد می‌کنیم و آن را بچه‌ی سمت راست v قرار می‌دهیم.\n",
    "<br>\n",
    "<img src=\"insertion-animation.gif\" style=\"float:center; width:50%\">"
   ]
  },
  {
   "cell_type": "code",
   "execution_count": 4,
   "metadata": {
    "collapsed": true
   },
   "outputs": [],
   "source": [
    "def insert(node, value):\n",
    "    if (value < node.label):\n",
    "        if (node.leftChild != None):\n",
    "            insert(node.leftChild, value)\n",
    "        else:\n",
    "            node.leftChild = Node(value, node)\n",
    "    else:\n",
    "        if (node.rightChild != None):\n",
    "            insert(node.rightChild, value)\n",
    "        else:\n",
    "            node.rightChild = Node(value, node)"
   ]
  },
  {
   "cell_type": "code",
   "execution_count": 5,
   "metadata": {
    "collapsed": false
   },
   "outputs": [
    {
     "name": "stdout",
     "output_type": "stream",
     "text": [
      "3\n"
     ]
    }
   ],
   "source": [
    "root = Node(1, None)\n",
    "insert(root, 2)\n",
    "insert(root, 3)\n",
    "node = search(root, 3)\n",
    "print(node.label)"
   ]
  },
  {
   "cell_type": "markdown",
   "metadata": {},
   "source": [
    "<p></p>\n",
    "<br>\n",
    "<div style=\"direction:rtl;line-height:300%;\"><font face=\"XB Zar\" size=5>\n",
    "<font color=#FF7500 size=6>\n",
    "میانگین ارتفاع درخت جست‌وجو\n",
    "</font>\n",
    "<p></p>\n",
    "\n",
    "<hr>\n",
    "در این جا به دادن شهود کلی بسنده می‌کنیم. (اثبات ریاضی دقیق آن را می‌توانید در کتاب دکتر قدسی مشاهده فرمایید.)\n",
    "<br>\n",
    "بدین منظور، تمامی جایگشت هایی ممکن را که می‌خواهیم به ترتیب در د.د.ج درج کنیم را در نظر می‌گیرم.توجه کنید عملیات درج هر جایگشتی دقیقا به یک د.د.ج یکتا می‌انجامد ، به عنوان مثال شکل زیر تمامی د.د.ج های حاصل از درج اعداد 1 تا 4 را نشان می‌دهد: \n",
    "<img src=\"A03.jpg\" style=\"float:center; width:50%\">\n",
    "همان طور که مشاهده می‌کنید، هر چه قدر د.د.ج متعادل تر باشد، تعداد بیشتری جایگشت با آن متناظر خواهند بود، این نکته کلیدی را به صورت زیر در حالت کلی بیان می کنیم:\n",
    "<br>\n",
    "تعداد جایگشت های متناظر با د.د.ج t را با p<sub>t</sub> نشان می دهیم، و همچنین زیر درخت سمت راست آن را با t<sub>r</sub> و زیر درخت سمت چپ آن را با t<sub>l</sub> نشان می‌دهیم، به شکل زیر توجه کنید:\n",
    "<img src=\"A1.jpg\" style=\"float:center; width:70%\">\n",
    "تعداد جایگشت هایی که با این در خت متناظر می شوند را می توان از فرمول زیر به دست آورد:\n",
    "<img src=\"A23.jpg\" style=\"float:center; width:40%\">\n",
    "حال در این فرمول،می توان نشان داد که هنگامی که |t<sub>l</sub>| و |t<sub>r</sub>| به هم نزدیک باشند، یعنی د.د.ج متعادل باشد، جزء انتخاب آن بسیار بسیار بزرگ تر از حالتی خواهد بود که این دو از هم فاصله داشته باشند. بنابراین هر چه درخت متعادلتر باشد، تعداد جایشگت بیشتری با آن متناظر خواهد شد.\n",
    "<br>\n",
    "پس به صورت شهودی در حالت میانگین، با یک درخت متعادل، که O(ارتفاع) آن از lgn است مواجه خواهیم شد"
   ]
  },
  {
   "cell_type": "code",
   "execution_count": null,
   "metadata": {
    "collapsed": true
   },
   "outputs": [],
   "source": []
  }
 ],
 "metadata": {
  "kernelspec": {
   "display_name": "Python 2",
   "language": "python",
   "name": "python2"
  },
  "language_info": {
   "codemirror_mode": {
    "name": "ipython",
    "version": 2
   },
   "file_extension": ".py",
   "mimetype": "text/x-python",
   "name": "python",
   "nbconvert_exporter": "python",
   "pygments_lexer": "ipython2",
   "version": "2.7.9"
  }
 },
 "nbformat": 4,
 "nbformat_minor": 0
}
